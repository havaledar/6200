{
  "nbformat": 4,
  "nbformat_minor": 0,
  "metadata": {
    "colab": {
      "provenance": [],
      "authorship_tag": "ABX9TyPr1XWITJCpupE7vn4Jz6k+",
      "include_colab_link": true
    },
    "kernelspec": {
      "name": "ir",
      "display_name": "R"
    },
    "language_info": {
      "name": "R"
    }
  },
  "cells": [
    {
      "cell_type": "markdown",
      "metadata": {
        "id": "view-in-github",
        "colab_type": "text"
      },
      "source": [
        "<a href=\"https://colab.research.google.com/github/havaledar/6200/blob/main/A2.ipynb\" target=\"_parent\"><img src=\"https://colab.research.google.com/assets/colab-badge.svg\" alt=\"Open In Colab\"/></a>"
      ]
    },
    {
      "cell_type": "markdown",
      "source": [
        "#Assignment 1 by AA"
      ],
      "metadata": {
        "id": "0npHrH59UFGF"
      }
    },
    {
      "cell_type": "code",
      "source": [
        "###############################\n",
        "#### DATA*6200 F22\n",
        "#### Assignment 1\n",
        "###############################\n",
        "\n",
        "## reading in data\n",
        "library(tidyverse)\n",
        "foot <- read.csv(\"https://raw.githubusercontent.com/havaledar/6200/main/afferentData.csv\", sep=\",\", skip=1, header=F)\n",
        "colnames(foot) <- c(\"session\",\"afferent\", \"subject\", \"sex\", \"age\", \"afferentClass\",\"genloc\",\"specloc\",\n",
        "                    \"RFsize\", \"RFhardness\",\"frequency\",\"amplitude\", \"AvgInst\", \"peak3\",\"impCycle\")\n",
        "foot <- data.frame(foot)\n",
        "\n",
        "## identify missing values\n",
        "# > rownames(foot)[(is.na(foot$impCycle))]\n",
        "# [1] \"474\"\n",
        "# foot[474,]\n",
        "\n",
        "## remove them for this analysis\n",
        "foot <- foot[-474,]\n",
        "\n",
        "## pull out unique afferents and\n",
        "## label unique afferents in database\n",
        "Unique.aff <- distinct(foot, session, afferent, subject, afferentClass)\n",
        "Unique.aff <- Unique.aff[order(Unique.aff$afferent, Unique.aff$subject, Unique.aff$afferentClass),]\n",
        "\n",
        "## need (subject and afferent) to uniquely define an afferent\n",
        "## create newID so only need one variable to identify afferent\n",
        "foot$newID <- rep(0,nrow(foot))\n",
        "for(i in 1:nrow(Unique.aff)){ \n",
        "  affid1 <- Unique.aff$subject[i]   # subsetting single afferent\n",
        "  affid2 <- Unique.aff$afferent[i]\n",
        "  foot$newID[foot$subject==affid1 & foot$afferent==affid2] <- i\n",
        "}\n",
        "## move new afferentID to just after original afferent ID\n",
        "foot <- foot %>% relocate(newID, .after = afferent)\n",
        "\n",
        "#################################################################\n",
        "## Q1 staring descriptives...\n",
        "#################################################################\n",
        "## identify unique afferents by session, subject, afferent, class\n",
        "##order columns with characters together and continuous together\n",
        "uniqueAfferents <- foot[!duplicated(foot$newID), c(1:4,7,5,8:9,6,10:16)]\n",
        "\n",
        "# cross-tabulate by subject and afferent class\n",
        "afferentSummary <- table(uniqueAfferents$subject, uniqueAfferents$afferentClass)\n",
        "\n",
        "# add row sums to count total number afferents per subject\n",
        "afferentSummary <- cbind(afferentSummary, rowSums(afferentSummary))\n",
        "\n",
        "# count number observations per subject, append to afferentSummary\n",
        "numObs <- as.data.frame(foot %>% group_by(subject) %>% tally())\n",
        "afferentSummary <- cbind(afferentSummary, numObs$n)\n",
        "colnames(afferentSummary)[5:6] <- c(\"nafferents\", \"numObs\")\n",
        "\n",
        "# append column sums to tally number afferents by class, and total number obs\n",
        "afferentSummary <- rbind(afferentSummary, colSums(afferentSummary))\n",
        "rownames(afferentSummary)[length(rownames(afferentSummary))] <- \"Totals\"\n",
        "\n",
        "nsessions <- length(unique(uniqueAfferents$session))\n",
        "nsubjects <- apply(afferentSummary[-17,1:4],2, function(x){return(sum(x>0))})\n",
        "\n",
        "#######################################\n",
        "## Q2 table of demographic information#\n",
        "#######################################\n",
        "\n",
        "## using tables overall and then by afferent class, \n",
        "## use cbind to collate them into one table\n",
        "sexSummary <- apply(table(uniqueAfferents$sex,uniqueAfferents$afferentClass),1,sum)\n",
        "sexSummary <- cbind(sexSummary, round(addmargins(table(uniqueAfferents$sex,uniqueAfferents$afferentClass),2)/max(uniqueAfferents$newID),2))\n",
        "\n",
        "genSummary <- apply(table(uniqueAfferents$genloc,uniqueAfferents$afferentClass),1,sum)\n",
        "genSummary <- cbind(genSummary, round(addmargins(table(uniqueAfferents$genloc,uniqueAfferents$afferentClass),2)/max(uniqueAfferents$newID),2))\n",
        "\n",
        "specSummary <- apply(table(uniqueAfferents$specloc,uniqueAfferents$afferentClass),1,sum)\n",
        "specSummary <- cbind(specSummary, round(addmargins(table(uniqueAfferents$specloc,uniqueAfferents$afferentClass),2)/max(uniqueAfferents$newID),2))\n",
        "\n",
        "## bind the rows of the demographic tables together\n",
        "## to provide a single unified table\n",
        "charSummary <- rbind(sexSummary, genSummary)\n",
        "charSummary <- rbind(charSummary, specSummary)\n",
        "charSummary <- rbind(charSummary, apply(sexSummary,2,sum))\n",
        "colnames(charSummary)[1] <- \"n\"\n",
        "\n",
        "## descriptives for continuous variables\n",
        "## count number of missing values\n",
        "var.list <- c(\"age\", \"RFsize\", \"RFhardness\")\n",
        "sapply(var.list, function(var){sum(is.na(uniqueAfferents[[var]]))})\n",
        "\n",
        "## overall summaries and summaries by afferent class\n",
        "## BUT need to filter table to remove NAs\n",
        "## before calculating summary stats\n",
        "## Also need to compute overall stats separate\n",
        "## from afferent class specific stats\n",
        "## and then bind the table togethe (rowwise)\n",
        "\n",
        "## Age\n",
        "all_ageSummary <- uniqueAfferents %>% \n",
        "  filter(!is.na(age)) %>% select(age) %>%\n",
        "  summarise(afferentClass=\"overall\", n=n(), mean=mean(age), stdev=sd(age), min=min(age), max=max(age))\n",
        "ageSummary <- uniqueAfferents %>% group_by(afferentClass) %>% \n",
        "  filter(!is.na(age)) %>% select(age) %>%\n",
        "  summarise(n=n(), mean=mean(age), stdev=sd(age), min=min(age), max=max(age))\n",
        "ageSummary <- bind_rows(all_ageSummary, ageSummary)\n",
        "\n",
        "## Receptive Field Size\n",
        "all_rfsSummary <- uniqueAfferents %>% \n",
        "  filter(!is.na(RFsize)) %>% select(RFsize) %>%\n",
        "  summarise(afferentClass=\"overall\", n=n(), mean=mean(RFsize), stdev=sd(RFsize), min=min(RFsize), max=max(RFsize))\n",
        "rfsSummary <- uniqueAfferents %>% group_by(afferentClass) %>% \n",
        "  filter(!is.na(RFsize)) %>% select(RFsize) %>%\n",
        "  summarise(n=n(), mean=mean(RFsize), stdev=sd(RFsize), min=min(RFsize), max=max(RFsize))\n",
        "rfsSummary <- bind_rows(all_rfsSummary, rfsSummary)\n",
        "\n",
        "## Receptive Field Hardness\n",
        "all_rfhSummary <- uniqueAfferents %>% \n",
        "  filter(!is.na(RFhardness)) %>% select(RFhardness) %>%\n",
        "  summarise(afferentClass=\"overall\", n=n(), mean=mean(RFhardness), stdev=sd(RFhardness), \n",
        "            min=min(RFhardness), max=max(RFhardness))\n",
        "rfhSummary <- uniqueAfferents %>% group_by(afferentClass) %>% \n",
        "  filter(!is.na(RFhardness)) %>% select(RFhardness) %>%\n",
        "  summarise(n=n(), mean=mean(RFhardness), stdev=sd(RFhardness), \n",
        "            min=min(RFhardness), max=max(RFhardness))\n",
        "rfhSummary <- bind_rows(all_rfhSummary, rfhSummary)\n",
        "\n",
        "## combine all quantitative variable stats together into one table\n",
        "quantSummary <- bind_rows(ageSummary, rfsSummary, rfhSummary)\n",
        "\n",
        "\n",
        "#########################################################\n",
        "## Q3. Compute firing threshold and entrianment threshold\n",
        "##     which differs for each afferent at each frequency\n",
        "#########################################################\n",
        "\n",
        "ft <- foot %>%   # firing threshold\n",
        "  group_by(newID, frequency) %>%\n",
        "  filter(impCycle > 0)  %>%\n",
        "  summarise(firingThreshold = min(amplitude)) %>%\n",
        "  ungroup()\n",
        "\n",
        "ent <- foot %>%   # entrainment threshold\n",
        "  group_by(newID, frequency) %>%\n",
        "  filter(impCycle > 0.9)  %>%\n",
        "  summarise(entrainThreshold = min(amplitude))%>%\n",
        "  ungroup()\n",
        "\n",
        "## merge it back with full data, first \n",
        "## firing threshold then entrainment threshold \n",
        "footJoined <- foot %>% left_join(ft, by=c(\"newID\", \"frequency\")) %>%\n",
        "                     left_join(ent, by=c(\"newID\", \"frequency\")) \n",
        "dim(footJoined)\n",
        "## footJoined now holds impCycle, firingThreshold and entrainThreshold\n",
        "## overall summaries and summaries by afferent class\n",
        "## using lapply() to go through the variable list\n",
        "## first filter out NAs before calculating summary stats\n",
        "\n",
        "# overall for impulses per cycle\n",
        "var.list <- c(\"frequency\", \"amplitude\", \"impCycle\")\n",
        "allimpSummary <- lapply(var.list, function(x){\n",
        "  footJoined %>% \n",
        "    filter(!is.na(.data[[x]])) %>% \n",
        "    summarise(afferentClass=\"overall\", variable=x,n=n(), naff=n_distinct(newID), nsub=n_distinct(subject), mean=mean(.data[[x]]), stdev=sd(.data[[x]]), \n",
        "              min=min(.data[[x]]), med=median(.data[[x]]), max=max(.data[[x]]))\n",
        "}) %>%\n",
        "  bind_rows()\n",
        "\n",
        "# impulses per cycle by afferent class \n",
        "impSummary <- lapply(var.list, function(x){\n",
        "  footJoined %>% group_by(afferentClass) %>%\n",
        "    filter(!is.na(.data[[x]])) %>% \n",
        "    summarise(variable=x,n=n(), naff=n_distinct(newID), nsub=n_distinct(subject), mean=mean(.data[[x]]), stdev=sd(.data[[x]]), \n",
        "              min=min(.data[[x]]), med=median(.data[[x]]), max=max(.data[[x]]))\n",
        "}) %>%\n",
        "  bind_rows()\n",
        "\n",
        "# combine summaries into one table\n",
        "impDescriptives <- allimpSummary %>% bind_rows(impSummary) %>%\n",
        "  arrange(variable) \n",
        "  \n",
        "# overall for firing threshold\n",
        "var.list <- c(\"frequency\", \"amplitude\")\n",
        "allftSummary <- lapply(var.list, function(x){\n",
        "  footJoined %>% \n",
        "    filter(!is.na(.data[[x]])) %>% \n",
        "    filter(firingThreshold==amplitude) %>%\n",
        "    summarise(afferentClass=\"overall\", variable=x, n=n(), naff=n_distinct(newID), nsub=n_distinct(subject), mean=mean(.data[[x]]), stdev=sd(.data[[x]]), \n",
        "              min=min(.data[[x]]), med=median(.data[[x]]), max=max(.data[[x]]))\n",
        "}) %>%\n",
        "  bind_rows()\n",
        "\n",
        "# firing threshold by afferent class \n",
        "ftSummary <- lapply(var.list, function(x){\n",
        "  footJoined %>% group_by(afferentClass) %>%\n",
        "    filter(!is.na(.data[[x]])) %>% \n",
        "    filter(firingThreshold==amplitude) %>%\n",
        "    summarise(variable=x,n=n(), naff=n_distinct(newID), nsub=n_distinct(subject), mean=mean(.data[[x]]), stdev=sd(.data[[x]]), \n",
        "              min=min(.data[[x]]), med=median(.data[[x]]), max=max(.data[[x]]))\n",
        "}) %>%\n",
        "  bind_rows()\n",
        "\n",
        "# combine summaries into one table\n",
        "ftDescriptives <- allftSummary %>% bind_rows(ftSummary) %>%\n",
        "  arrange(variable) \n",
        "\n",
        "# overall for entrainment threshold\n",
        "var.list <- c(\"frequency\", \"amplitude\")\n",
        "allentSummary <- lapply(var.list, function(x){\n",
        "  footJoined %>% \n",
        "    filter(!is.na(.data[[x]])) %>%\n",
        "    filter(entrainThreshold==amplitude) %>%\n",
        "    summarise(afferentClass=\"overall\", variable=x, n=n(), naff=n_distinct(newID), nsub=n_distinct(subject), mean=mean(.data[[x]]), stdev=sd(.data[[x]]), \n",
        "              min=min(.data[[x]]), med=median(.data[[x]]), max=max(.data[[x]]))\n",
        "}) %>%\n",
        "  bind_rows()\n",
        "\n",
        "# entrainment threshold by afferent class \n",
        "entSummary <- lapply(var.list, function(x){\n",
        "  footJoined %>% group_by(afferentClass) %>%\n",
        "    filter(!is.na(.data[[x]])) %>% \n",
        "    filter(entrainThreshold==amplitude) %>%\n",
        "    summarise(variable=x,n=n(), naff=n_distinct(newID), nsub=n_distinct(subject), mean=mean(.data[[x]]), stdev=sd(.data[[x]]), \n",
        "              min=min(.data[[x]]), med=median(.data[[x]]), max=max(.data[[x]]))\n",
        "}) %>%\n",
        "  bind_rows()\n",
        "\n",
        "# combine summaries into one table\n",
        "entDescriptives <- allentSummary %>% bind_rows(entSummary) %>%\n",
        "  arrange(variable) "
      ],
      "metadata": {
        "colab": {
          "base_uri": "https://localhost:8080/",
          "height": 173
        },
        "id": "Mo5XVPHHUQt6",
        "outputId": "b7906d59-fa5f-460f-95c4-cca2951ed5f6"
      },
      "execution_count": null,
      "outputs": [
        {
          "output_type": "display_data",
          "data": {
            "text/html": [
              "<style>\n",
              ".dl-inline {width: auto; margin:0; padding: 0}\n",
              ".dl-inline>dt, .dl-inline>dd {float: none; width: auto; display: inline-block}\n",
              ".dl-inline>dt::after {content: \":\\0020\"; padding-right: .5ex}\n",
              ".dl-inline>dt:not(:first-of-type) {padding-left: .5ex}\n",
              "</style><dl class=dl-inline><dt>age</dt><dd>0</dd><dt>RFsize</dt><dd>1</dd><dt>RFhardness</dt><dd>3</dd></dl>\n"
            ],
            "text/markdown": "age\n:   0RFsize\n:   1RFhardness\n:   3\n\n",
            "text/latex": "\\begin{description*}\n\\item[age] 0\n\\item[RFsize] 1\n\\item[RFhardness] 3\n\\end{description*}\n",
            "text/plain": [
              "       age     RFsize RFhardness \n",
              "         0          1          3 "
            ]
          },
          "metadata": {}
        },
        {
          "output_type": "stream",
          "name": "stderr",
          "text": [
            "\u001b[1m\u001b[22mAdding missing grouping variables: `afferentClass`\n",
            "\u001b[1m\u001b[22mAdding missing grouping variables: `afferentClass`\n",
            "\u001b[1m\u001b[22mAdding missing grouping variables: `afferentClass`\n",
            "\u001b[1m\u001b[22m`summarise()` has grouped output by 'newID'. You can override using the\n",
            "`.groups` argument.\n",
            "\u001b[1m\u001b[22m`summarise()` has grouped output by 'newID'. You can override using the\n",
            "`.groups` argument.\n"
          ]
        },
        {
          "output_type": "display_data",
          "data": {
            "text/html": [
              "<style>\n",
              ".list-inline {list-style: none; margin:0; padding: 0}\n",
              ".list-inline>li {display: inline-block}\n",
              ".list-inline>li:not(:last-child)::after {content: \"\\00b7\"; padding: 0 .5ex}\n",
              "</style>\n",
              "<ol class=list-inline><li>2703</li><li>18</li></ol>\n"
            ],
            "text/markdown": "1. 2703\n2. 18\n\n\n",
            "text/latex": "\\begin{enumerate*}\n\\item 2703\n\\item 18\n\\end{enumerate*}\n",
            "text/plain": [
              "[1] 2703   18"
            ]
          },
          "metadata": {}
        }
      ]
    },
    {
      "cell_type": "markdown",
      "source": [
        "#A2 by MH"
      ],
      "metadata": {
        "id": "nlxZV7zrUytb"
      }
    },
    {
      "cell_type": "code",
      "source": [
        "colnames(footJoined)"
      ],
      "metadata": {
        "colab": {
          "base_uri": "https://localhost:8080/",
          "height": 52
        },
        "id": "6_sNeVGPMdSx",
        "outputId": "befcd0f5-894f-4573-f99f-0e8dbb6cbc83"
      },
      "execution_count": 15,
      "outputs": [
        {
          "output_type": "display_data",
          "data": {
            "text/html": [
              "<style>\n",
              ".list-inline {list-style: none; margin:0; padding: 0}\n",
              ".list-inline>li {display: inline-block}\n",
              ".list-inline>li:not(:last-child)::after {content: \"\\00b7\"; padding: 0 .5ex}\n",
              "</style>\n",
              "<ol class=list-inline><li>'session'</li><li>'afferent'</li><li>'newID'</li><li>'subject'</li><li>'sex'</li><li>'age'</li><li>'afferentClass'</li><li>'genloc'</li><li>'specloc'</li><li>'RFsize'</li><li>'RFhardness'</li><li>'frequency'</li><li>'amplitude'</li><li>'AvgInst'</li><li>'peak3'</li><li>'impCycle'</li><li>'firingThreshold'</li><li>'entrainThreshold'</li></ol>\n"
            ],
            "text/markdown": "1. 'session'\n2. 'afferent'\n3. 'newID'\n4. 'subject'\n5. 'sex'\n6. 'age'\n7. 'afferentClass'\n8. 'genloc'\n9. 'specloc'\n10. 'RFsize'\n11. 'RFhardness'\n12. 'frequency'\n13. 'amplitude'\n14. 'AvgInst'\n15. 'peak3'\n16. 'impCycle'\n17. 'firingThreshold'\n18. 'entrainThreshold'\n\n\n",
            "text/latex": "\\begin{enumerate*}\n\\item 'session'\n\\item 'afferent'\n\\item 'newID'\n\\item 'subject'\n\\item 'sex'\n\\item 'age'\n\\item 'afferentClass'\n\\item 'genloc'\n\\item 'specloc'\n\\item 'RFsize'\n\\item 'RFhardness'\n\\item 'frequency'\n\\item 'amplitude'\n\\item 'AvgInst'\n\\item 'peak3'\n\\item 'impCycle'\n\\item 'firingThreshold'\n\\item 'entrainThreshold'\n\\end{enumerate*}\n",
            "text/plain": [
              " [1] \"session\"          \"afferent\"         \"newID\"            \"subject\"         \n",
              " [5] \"sex\"              \"age\"              \"afferentClass\"    \"genloc\"          \n",
              " [9] \"specloc\"          \"RFsize\"           \"RFhardness\"       \"frequency\"       \n",
              "[13] \"amplitude\"        \"AvgInst\"          \"peak3\"            \"impCycle\"        \n",
              "[17] \"firingThreshold\"  \"entrainThreshold\""
            ]
          },
          "metadata": {}
        }
      ]
    },
    {
      "cell_type": "code",
      "source": [
        "#Plotting impulses per cycle, firing threshold, and entrainment thrsehold by afferent class\n",
        "\n",
        "ggplot(data=subset(footJoined, !is.na(impCycle)), aes(afferentClass, impCycle)) + geom_boxplot() + xlab(\"Afferent class\") + ylab(\"Impulses per cycle\")\n",
        "ggplot(data=subset(footJoined, !is.na(firingThreshold)), aes(afferentClass, firingThreshold)) + geom_boxplot() + xlab(\"Firing Threshold\") + ylab(\"Impulses per cycle\")\n",
        "ggplot(data=subset(footJoined, !is.na(entrainThreshold)), aes(afferentClass, entrainThreshold)) + geom_boxplot() + xlab(\"Entrain Threshold\") + ylab(\"Impulses per cycle\")"
      ],
      "metadata": {
        "id": "kMrWAja3U8DC",
        "colab": {
          "base_uri": "https://localhost:8080/",
          "height": 1000
        },
        "outputId": "7fcdd569-1a72-493f-e197-1ab38afb800a"
      },
      "execution_count": 53,
      "outputs": [
        {
          "output_type": "display_data",
          "data": {
            "text/plain": [
              "plot without title"
            ],
            "image/png": "[encoded data removed]"
          },
          "metadata": {
            "image/png": {
              "width": 420,
              "height": 420
            }
          }
        },
        {
          "output_type": "display_data",
          "data": {
            "text/plain": [
              "plot without title"
            ],
            "image/png": "[encoded data removed]"
          },
          "metadata": {
            "image/png": {
              "width": 420,
              "height": 420
            }
          }
        },
        {
          "output_type": "display_data",
          "data": {
            "text/plain": [
              "plot without title"
            ],
            "image/png": "[encoded data removed]"
          },
          "metadata": {
            "image/png": {
              "width": 420,
              "height": 420
            }
          }
        }
      ]
    },
    {
      "cell_type": "code",
      "source": [],
      "metadata": {
        "id": "yUlGWxwHR3ZT"
      },
      "execution_count": null,
      "outputs": []
    },
    {
      "cell_type": "code",
      "source": [
        "footJoined$entrainThreshold"
      ],
      "metadata": {
        "colab": {
          "base_uri": "https://localhost:8080/",
          "height": 260
        },
        "id": "5Zm80NpXQg5a",
        "outputId": "396d02ba-959c-4bac-d257-4fc805240235"
      },
      "execution_count": 43,
      "outputs": [
        {
          "output_type": "display_data",
          "data": {
            "text/html": [
              "<style>\n",
              ".list-inline {list-style: none; margin:0; padding: 0}\n",
              ".list-inline>li {display: inline-block}\n",
              ".list-inline>li:not(:last-child)::after {content: \"\\00b7\"; padding: 0 .5ex}\n",
              "</style>\n",
              "<ol class=list-inline><li>0.5</li><li>0.5</li><li>0.5</li><li>0.5</li><li>0.5</li><li>0.5</li><li>0.5</li><li>0.5</li><li>0.5</li><li>0.5</li><li>0.5</li><li>0.5</li><li>0.5</li><li>0.5</li><li>0.5</li><li>0.5</li><li>0.5</li><li>0.5</li><li>0.5</li><li>0.5</li><li>0.5</li><li>0.5</li><li>0.5</li><li>0.5</li><li>0.5</li><li>0.5</li><li>0.5</li><li>0.5</li><li>0.75</li><li>0.75</li><li>0.75</li><li>0.75</li><li>0.75</li><li>0.75</li><li>0.75</li><li>0.75</li><li>0.75</li><li>0.75</li><li>0.75</li><li>0.5</li><li>0.5</li><li>0.5</li><li>0.5</li><li>0.5</li><li>0.5</li><li>0.5</li><li>0.5</li><li>0.5</li><li>0.5</li><li>0.5</li><li>0.5</li><li>0.5</li><li>0.5</li><li>0.5</li><li>0.75</li><li>0.75</li><li>0.75</li><li>0.75</li><li>0.75</li><li>0.75</li><li>0.75</li><li>0.75</li><li>0.75</li><li>0.75</li><li>0.75</li><li>0.75</li><li>0.75</li><li>0.75</li><li>0.75</li><li>0.5</li><li>0.5</li><li>0.5</li><li>0.5</li><li>0.5</li><li>0.5</li><li>0.5</li><li>0.5</li><li>0.5</li><li>0.5</li><li>0.5</li><li>&lt;NA&gt;</li><li>&lt;NA&gt;</li><li>&lt;NA&gt;</li><li>&lt;NA&gt;</li><li>&lt;NA&gt;</li><li>&lt;NA&gt;</li><li>&lt;NA&gt;</li><li>&lt;NA&gt;</li><li>&lt;NA&gt;</li><li>&lt;NA&gt;</li><li>0.5</li><li>0.5</li><li>0.5</li><li>0.5</li><li>0.5</li><li>0.5</li><li>0.5</li><li>0.5</li><li>0.5</li><li>0.5</li><li>0.5</li><li>0.5</li><li>0.5</li><li>0.5</li><li>0.5</li><li>0.5</li><li>0.5</li><li>0.5</li><li>0.5</li><li>0.5</li><li>0.5</li><li>0.5</li><li>0.5</li><li>0.5</li><li>0.5</li><li>0.5</li><li>&lt;NA&gt;</li><li>&lt;NA&gt;</li><li>&lt;NA&gt;</li><li>&lt;NA&gt;</li><li>&lt;NA&gt;</li><li>&lt;NA&gt;</li><li>&lt;NA&gt;</li><li>&lt;NA&gt;</li><li>&lt;NA&gt;</li><li>&lt;NA&gt;</li><li>&lt;NA&gt;</li><li>1.5</li><li>1.5</li><li>1.5</li><li>1.5</li><li>1.5</li><li>1.5</li><li>1.5</li><li>1.5</li><li>1.5</li><li>1.5</li><li>2</li><li>2</li><li>2</li><li>2</li><li>2</li><li>2</li><li>2</li><li>2</li><li>2</li><li>2</li><li>2</li><li>1.75</li><li>1.75</li><li>1.75</li><li>1.75</li><li>1.75</li><li>1.75</li><li>1.75</li><li>1.75</li><li>1.75</li><li>1.75</li><li>1.75</li><li>1.25</li><li>1.25</li><li>1.25</li><li>1.25</li><li>1.25</li><li>1.25</li><li>1.25</li><li>1.25</li><li>1.25</li><li>1.25</li><li>1.25</li><li>1.75</li><li>1.75</li><li>1.75</li><li>1.75</li><li>1.75</li><li>1.75</li><li>1.75</li><li>1.75</li><li>1.75</li><li>1.75</li><li>1.75</li><li>1.75</li><li>1.75</li><li>1.75</li><li>1.75</li><li>1.25</li><li>1.25</li><li>1.25</li><li>1.25</li><li>1.25</li><li>1.25</li><li>1.25</li><li>1.25</li><li>1.25</li><li>1.25</li><li>1.25</li><li>1.25</li><li>1.25</li><li>1.25</li><li>1.25</li><li>⋯</li><li>&lt;NA&gt;</li><li>&lt;NA&gt;</li><li>&lt;NA&gt;</li><li>&lt;NA&gt;</li><li>&lt;NA&gt;</li><li>&lt;NA&gt;</li><li>&lt;NA&gt;</li><li>&lt;NA&gt;</li><li>&lt;NA&gt;</li><li>&lt;NA&gt;</li><li>&lt;NA&gt;</li><li>&lt;NA&gt;</li><li>&lt;NA&gt;</li><li>&lt;NA&gt;</li><li>&lt;NA&gt;</li><li>&lt;NA&gt;</li><li>&lt;NA&gt;</li><li>&lt;NA&gt;</li><li>&lt;NA&gt;</li><li>&lt;NA&gt;</li><li>&lt;NA&gt;</li><li>&lt;NA&gt;</li><li>&lt;NA&gt;</li><li>&lt;NA&gt;</li><li>&lt;NA&gt;</li><li>&lt;NA&gt;</li><li>&lt;NA&gt;</li><li>&lt;NA&gt;</li><li>&lt;NA&gt;</li><li>&lt;NA&gt;</li><li>&lt;NA&gt;</li><li>&lt;NA&gt;</li><li>&lt;NA&gt;</li><li>0.75</li><li>0.75</li><li>0.75</li><li>0.75</li><li>0.75</li><li>0.75</li><li>0.75</li><li>1.5</li><li>1.5</li><li>1.5</li><li>1.5</li><li>1.5</li><li>1.5</li><li>1.5</li><li>1.5</li><li>1.5</li><li>1.5</li><li>1.5</li><li>1.75</li><li>1.75</li><li>1.75</li><li>1.75</li><li>1.75</li><li>1.75</li><li>1.75</li><li>1.75</li><li>1.75</li><li>1.75</li><li>1.75</li><li>&lt;NA&gt;</li><li>&lt;NA&gt;</li><li>&lt;NA&gt;</li><li>&lt;NA&gt;</li><li>&lt;NA&gt;</li><li>&lt;NA&gt;</li><li>&lt;NA&gt;</li><li>&lt;NA&gt;</li><li>&lt;NA&gt;</li><li>&lt;NA&gt;</li><li>&lt;NA&gt;</li><li>0.5</li><li>0.1</li><li>0.1</li><li>0.1</li><li>1</li><li>1</li><li>1</li><li>1</li><li>1</li><li>0.5</li><li>0.5</li><li>0.5</li><li>0.5</li><li>0.5</li><li>0.5</li><li>1.25</li><li>1.25</li><li>1.25</li><li>1.25</li><li>1.25</li><li>1.25</li><li>1.25</li><li>1.25</li><li>1.25</li><li>&lt;NA&gt;</li><li>&lt;NA&gt;</li><li>&lt;NA&gt;</li><li>&lt;NA&gt;</li><li>&lt;NA&gt;</li><li>&lt;NA&gt;</li><li>&lt;NA&gt;</li><li>&lt;NA&gt;</li><li>&lt;NA&gt;</li><li>&lt;NA&gt;</li><li>&lt;NA&gt;</li><li>&lt;NA&gt;</li><li>&lt;NA&gt;</li><li>&lt;NA&gt;</li><li>&lt;NA&gt;</li><li>&lt;NA&gt;</li><li>&lt;NA&gt;</li><li>&lt;NA&gt;</li><li>&lt;NA&gt;</li><li>&lt;NA&gt;</li><li>&lt;NA&gt;</li><li>&lt;NA&gt;</li><li>&lt;NA&gt;</li><li>&lt;NA&gt;</li><li>&lt;NA&gt;</li><li>&lt;NA&gt;</li><li>&lt;NA&gt;</li><li>0.5</li><li>0.5</li><li>0.5</li><li>0.5</li><li>0.5</li><li>0.5</li><li>0.5</li><li>0.5</li><li>0.75</li><li>0.75</li><li>0.75</li><li>0.75</li><li>0.75</li><li>0.75</li><li>0.75</li><li>0.75</li><li>0.75</li><li>0.75</li><li>0.75</li><li>0.75</li><li>0.75</li><li>0.75</li><li>0.75</li><li>0.75</li><li>0.75</li><li>0.75</li><li>0.75</li><li>0.75</li><li>0.75</li><li>1</li><li>1</li><li>1</li><li>1</li><li>1</li><li>1</li><li>1</li><li>1</li><li>1</li><li>1</li><li>1</li><li>1.5</li><li>1.5</li><li>1.5</li><li>1.5</li><li>1.5</li><li>1.5</li><li>1.5</li><li>1.5</li><li>1.5</li><li>1.5</li><li>1.5</li><li>1.25</li><li>1.25</li><li>1.25</li><li>1.25</li><li>1.25</li><li>1.25</li><li>1.25</li><li>1.25</li><li>1.25</li><li>1.25</li><li>1.25</li><li>1.25</li><li>1.25</li><li>1.25</li><li>&lt;NA&gt;</li><li>&lt;NA&gt;</li><li>&lt;NA&gt;</li><li>&lt;NA&gt;</li><li>&lt;NA&gt;</li><li>&lt;NA&gt;</li><li>&lt;NA&gt;</li><li>&lt;NA&gt;</li><li>&lt;NA&gt;</li><li>&lt;NA&gt;</li><li>&lt;NA&gt;</li></ol>\n"
            ],
            "text/markdown": "1. 0.5\n2. 0.5\n3. 0.5\n4. 0.5\n5. 0.5\n6. 0.5\n7. 0.5\n8. 0.5\n9. 0.5\n10. 0.5\n11. 0.5\n12. 0.5\n13. 0.5\n14. 0.5\n15. 0.5\n16. 0.5\n17. 0.5\n18. 0.5\n19. 0.5\n20. 0.5\n21. 0.5\n22. 0.5\n23. 0.5\n24. 0.5\n25. 0.5\n26. 0.5\n27. 0.5\n28. 0.5\n29. 0.75\n30. 0.75\n31. 0.75\n32. 0.75\n33. 0.75\n34. 0.75\n35. 0.75\n36. 0.75\n37. 0.75\n38. 0.75\n39. 0.75\n40. 0.5\n41. 0.5\n42. 0.5\n43. 0.5\n44. 0.5\n45. 0.5\n46. 0.5\n47. 0.5\n48. 0.5\n49. 0.5\n50. 0.5\n51. 0.5\n52. 0.5\n53. 0.5\n54. 0.5\n55. 0.75\n56. 0.75\n57. 0.75\n58. 0.75\n59. 0.75\n60. 0.75\n61. 0.75\n62. 0.75\n63. 0.75\n64. 0.75\n65. 0.75\n66. 0.75\n67. 0.75\n68. 0.75\n69. 0.75\n70. 0.5\n71. 0.5\n72. 0.5\n73. 0.5\n74. 0.5\n75. 0.5\n76. 0.5\n77. 0.5\n78. 0.5\n79. 0.5\n80. 0.5\n81. &lt;NA&gt;\n82. &lt;NA&gt;\n83. &lt;NA&gt;\n84. &lt;NA&gt;\n85. &lt;NA&gt;\n86. &lt;NA&gt;\n87. &lt;NA&gt;\n88. &lt;NA&gt;\n89. &lt;NA&gt;\n90. &lt;NA&gt;\n91. 0.5\n92. 0.5\n93. 0.5\n94. 0.5\n95. 0.5\n96. 0.5\n97. 0.5\n98. 0.5\n99. 0.5\n100. 0.5\n101. 0.5\n102. 0.5\n103. 0.5\n104. 0.5\n105. 0.5\n106. 0.5\n107. 0.5\n108. 0.5\n109. 0.5\n110. 0.5\n111. 0.5\n112. 0.5\n113. 0.5\n114. 0.5\n115. 0.5\n116. 0.5\n117. &lt;NA&gt;\n118. &lt;NA&gt;\n119. &lt;NA&gt;\n120. &lt;NA&gt;\n121. &lt;NA&gt;\n122. &lt;NA&gt;\n123. &lt;NA&gt;\n124. &lt;NA&gt;\n125. &lt;NA&gt;\n126. &lt;NA&gt;\n127. &lt;NA&gt;\n128. 1.5\n129. 1.5\n130. 1.5\n131. 1.5\n132. 1.5\n133. 1.5\n134. 1.5\n135. 1.5\n136. 1.5\n137. 1.5\n138. 2\n139. 2\n140. 2\n141. 2\n142. 2\n143. 2\n144. 2\n145. 2\n146. 2\n147. 2\n148. 2\n149. 1.75\n150. 1.75\n151. 1.75\n152. 1.75\n153. 1.75\n154. 1.75\n155. 1.75\n156. 1.75\n157. 1.75\n158. 1.75\n159. 1.75\n160. 1.25\n161. 1.25\n162. 1.25\n163. 1.25\n164. 1.25\n165. 1.25\n166. 1.25\n167. 1.25\n168. 1.25\n169. 1.25\n170. 1.25\n171. 1.75\n172. 1.75\n173. 1.75\n174. 1.75\n175. 1.75\n176. 1.75\n177. 1.75\n178. 1.75\n179. 1.75\n180. 1.75\n181. 1.75\n182. 1.75\n183. 1.75\n184. 1.75\n185. 1.75\n186. 1.25\n187. 1.25\n188. 1.25\n189. 1.25\n190. 1.25\n191. 1.25\n192. 1.25\n193. 1.25\n194. 1.25\n195. 1.25\n196. 1.25\n197. 1.25\n198. 1.25\n199. 1.25\n200. 1.25\n201. ⋯\n202. &lt;NA&gt;\n203. &lt;NA&gt;\n204. &lt;NA&gt;\n205. &lt;NA&gt;\n206. &lt;NA&gt;\n207. &lt;NA&gt;\n208. &lt;NA&gt;\n209. &lt;NA&gt;\n210. &lt;NA&gt;\n211. &lt;NA&gt;\n212. &lt;NA&gt;\n213. &lt;NA&gt;\n214. &lt;NA&gt;\n215. &lt;NA&gt;\n216. &lt;NA&gt;\n217. &lt;NA&gt;\n218. &lt;NA&gt;\n219. &lt;NA&gt;\n220. &lt;NA&gt;\n221. &lt;NA&gt;\n222. &lt;NA&gt;\n223. &lt;NA&gt;\n224. &lt;NA&gt;\n225. &lt;NA&gt;\n226. &lt;NA&gt;\n227. &lt;NA&gt;\n228. &lt;NA&gt;\n229. &lt;NA&gt;\n230. &lt;NA&gt;\n231. &lt;NA&gt;\n232. &lt;NA&gt;\n233. &lt;NA&gt;\n234. &lt;NA&gt;\n235. 0.75\n236. 0.75\n237. 0.75\n238. 0.75\n239. 0.75\n240. 0.75\n241. 0.75\n242. 1.5\n243. 1.5\n244. 1.5\n245. 1.5\n246. 1.5\n247. 1.5\n248. 1.5\n249. 1.5\n250. 1.5\n251. 1.5\n252. 1.5\n253. 1.75\n254. 1.75\n255. 1.75\n256. 1.75\n257. 1.75\n258. 1.75\n259. 1.75\n260. 1.75\n261. 1.75\n262. 1.75\n263. 1.75\n264. &lt;NA&gt;\n265. &lt;NA&gt;\n266. &lt;NA&gt;\n267. &lt;NA&gt;\n268. &lt;NA&gt;\n269. &lt;NA&gt;\n270. &lt;NA&gt;\n271. &lt;NA&gt;\n272. &lt;NA&gt;\n273. &lt;NA&gt;\n274. &lt;NA&gt;\n275. 0.5\n276. 0.1\n277. 0.1\n278. 0.1\n279. 1\n280. 1\n281. 1\n282. 1\n283. 1\n284. 0.5\n285. 0.5\n286. 0.5\n287. 0.5\n288. 0.5\n289. 0.5\n290. 1.25\n291. 1.25\n292. 1.25\n293. 1.25\n294. 1.25\n295. 1.25\n296. 1.25\n297. 1.25\n298. 1.25\n299. &lt;NA&gt;\n300. &lt;NA&gt;\n301. &lt;NA&gt;\n302. &lt;NA&gt;\n303. &lt;NA&gt;\n304. &lt;NA&gt;\n305. &lt;NA&gt;\n306. &lt;NA&gt;\n307. &lt;NA&gt;\n308. &lt;NA&gt;\n309. &lt;NA&gt;\n310. &lt;NA&gt;\n311. &lt;NA&gt;\n312. &lt;NA&gt;\n313. &lt;NA&gt;\n314. &lt;NA&gt;\n315. &lt;NA&gt;\n316. &lt;NA&gt;\n317. &lt;NA&gt;\n318. &lt;NA&gt;\n319. &lt;NA&gt;\n320. &lt;NA&gt;\n321. &lt;NA&gt;\n322. &lt;NA&gt;\n323. &lt;NA&gt;\n324. &lt;NA&gt;\n325. &lt;NA&gt;\n326. 0.5\n327. 0.5\n328. 0.5\n329. 0.5\n330. 0.5\n331. 0.5\n332. 0.5\n333. 0.5\n334. 0.75\n335. 0.75\n336. 0.75\n337. 0.75\n338. 0.75\n339. 0.75\n340. 0.75\n341. 0.75\n342. 0.75\n343. 0.75\n344. 0.75\n345. 0.75\n346. 0.75\n347. 0.75\n348. 0.75\n349. 0.75\n350. 0.75\n351. 0.75\n352. 0.75\n353. 0.75\n354. 0.75\n355. 1\n356. 1\n357. 1\n358. 1\n359. 1\n360. 1\n361. 1\n362. 1\n363. 1\n364. 1\n365. 1\n366. 1.5\n367. 1.5\n368. 1.5\n369. 1.5\n370. 1.5\n371. 1.5\n372. 1.5\n373. 1.5\n374. 1.5\n375. 1.5\n376. 1.5\n377. 1.25\n378. 1.25\n379. 1.25\n380. 1.25\n381. 1.25\n382. 1.25\n383. 1.25\n384. 1.25\n385. 1.25\n386. 1.25\n387. 1.25\n388. 1.25\n389. 1.25\n390. 1.25\n391. &lt;NA&gt;\n392. &lt;NA&gt;\n393. &lt;NA&gt;\n394. &lt;NA&gt;\n395. &lt;NA&gt;\n396. &lt;NA&gt;\n397. &lt;NA&gt;\n398. &lt;NA&gt;\n399. &lt;NA&gt;\n400. &lt;NA&gt;\n401. &lt;NA&gt;\n\n\n",
            "text/latex": "\\begin{enumerate*}\n\\item 0.5\n\\item 0.5\n\\item 0.5\n\\item 0.5\n\\item 0.5\n\\item 0.5\n\\item 0.5\n\\item 0.5\n\\item 0.5\n\\item 0.5\n\\item 0.5\n\\item 0.5\n\\item 0.5\n\\item 0.5\n\\item 0.5\n\\item 0.5\n\\item 0.5\n\\item 0.5\n\\item 0.5\n\\item 0.5\n\\item 0.5\n\\item 0.5\n\\item 0.5\n\\item 0.5\n\\item 0.5\n\\item 0.5\n\\item 0.5\n\\item 0.5\n\\item 0.75\n\\item 0.75\n\\item 0.75\n\\item 0.75\n\\item 0.75\n\\item 0.75\n\\item 0.75\n\\item 0.75\n\\item 0.75\n\\item 0.75\n\\item 0.75\n\\item 0.5\n\\item 0.5\n\\item 0.5\n\\item 0.5\n\\item 0.5\n\\item 0.5\n\\item 0.5\n\\item 0.5\n\\item 0.5\n\\item 0.5\n\\item 0.5\n\\item 0.5\n\\item 0.5\n\\item 0.5\n\\item 0.5\n\\item 0.75\n\\item 0.75\n\\item 0.75\n\\item 0.75\n\\item 0.75\n\\item 0.75\n\\item 0.75\n\\item 0.75\n\\item 0.75\n\\item 0.75\n\\item 0.75\n\\item 0.75\n\\item 0.75\n\\item 0.75\n\\item 0.75\n\\item 0.5\n\\item 0.5\n\\item 0.5\n\\item 0.5\n\\item 0.5\n\\item 0.5\n\\item 0.5\n\\item 0.5\n\\item 0.5\n\\item 0.5\n\\item 0.5\n\\item <NA>\n\\item <NA>\n\\item <NA>\n\\item <NA>\n\\item <NA>\n\\item <NA>\n\\item <NA>\n\\item <NA>\n\\item <NA>\n\\item <NA>\n\\item 0.5\n\\item 0.5\n\\item 0.5\n\\item 0.5\n\\item 0.5\n\\item 0.5\n\\item 0.5\n\\item 0.5\n\\item 0.5\n\\item 0.5\n\\item 0.5\n\\item 0.5\n\\item 0.5\n\\item 0.5\n\\item 0.5\n\\item 0.5\n\\item 0.5\n\\item 0.5\n\\item 0.5\n\\item 0.5\n\\item 0.5\n\\item 0.5\n\\item 0.5\n\\item 0.5\n\\item 0.5\n\\item 0.5\n\\item <NA>\n\\item <NA>\n\\item <NA>\n\\item <NA>\n\\item <NA>\n\\item <NA>\n\\item <NA>\n\\item <NA>\n\\item <NA>\n\\item <NA>\n\\item <NA>\n\\item 1.5\n\\item 1.5\n\\item 1.5\n\\item 1.5\n\\item 1.5\n\\item 1.5\n\\item 1.5\n\\item 1.5\n\\item 1.5\n\\item 1.5\n\\item 2\n\\item 2\n\\item 2\n\\item 2\n\\item 2\n\\item 2\n\\item 2\n\\item 2\n\\item 2\n\\item 2\n\\item 2\n\\item 1.75\n\\item 1.75\n\\item 1.75\n\\item 1.75\n\\item 1.75\n\\item 1.75\n\\item 1.75\n\\item 1.75\n\\item 1.75\n\\item 1.75\n\\item 1.75\n\\item 1.25\n\\item 1.25\n\\item 1.25\n\\item 1.25\n\\item 1.25\n\\item 1.25\n\\item 1.25\n\\item 1.25\n\\item 1.25\n\\item 1.25\n\\item 1.25\n\\item 1.75\n\\item 1.75\n\\item 1.75\n\\item 1.75\n\\item 1.75\n\\item 1.75\n\\item 1.75\n\\item 1.75\n\\item 1.75\n\\item 1.75\n\\item 1.75\n\\item 1.75\n\\item 1.75\n\\item 1.75\n\\item 1.75\n\\item 1.25\n\\item 1.25\n\\item 1.25\n\\item 1.25\n\\item 1.25\n\\item 1.25\n\\item 1.25\n\\item 1.25\n\\item 1.25\n\\item 1.25\n\\item 1.25\n\\item 1.25\n\\item 1.25\n\\item 1.25\n\\item 1.25\n\\item ⋯\n\\item <NA>\n\\item <NA>\n\\item <NA>\n\\item <NA>\n\\item <NA>\n\\item <NA>\n\\item <NA>\n\\item <NA>\n\\item <NA>\n\\item <NA>\n\\item <NA>\n\\item <NA>\n\\item <NA>\n\\item <NA>\n\\item <NA>\n\\item <NA>\n\\item <NA>\n\\item <NA>\n\\item <NA>\n\\item <NA>\n\\item <NA>\n\\item <NA>\n\\item <NA>\n\\item <NA>\n\\item <NA>\n\\item <NA>\n\\item <NA>\n\\item <NA>\n\\item <NA>\n\\item <NA>\n\\item <NA>\n\\item <NA>\n\\item <NA>\n\\item 0.75\n\\item 0.75\n\\item 0.75\n\\item 0.75\n\\item 0.75\n\\item 0.75\n\\item 0.75\n\\item 1.5\n\\item 1.5\n\\item 1.5\n\\item 1.5\n\\item 1.5\n\\item 1.5\n\\item 1.5\n\\item 1.5\n\\item 1.5\n\\item 1.5\n\\item 1.5\n\\item 1.75\n\\item 1.75\n\\item 1.75\n\\item 1.75\n\\item 1.75\n\\item 1.75\n\\item 1.75\n\\item 1.75\n\\item 1.75\n\\item 1.75\n\\item 1.75\n\\item <NA>\n\\item <NA>\n\\item <NA>\n\\item <NA>\n\\item <NA>\n\\item <NA>\n\\item <NA>\n\\item <NA>\n\\item <NA>\n\\item <NA>\n\\item <NA>\n\\item 0.5\n\\item 0.1\n\\item 0.1\n\\item 0.1\n\\item 1\n\\item 1\n\\item 1\n\\item 1\n\\item 1\n\\item 0.5\n\\item 0.5\n\\item 0.5\n\\item 0.5\n\\item 0.5\n\\item 0.5\n\\item 1.25\n\\item 1.25\n\\item 1.25\n\\item 1.25\n\\item 1.25\n\\item 1.25\n\\item 1.25\n\\item 1.25\n\\item 1.25\n\\item <NA>\n\\item <NA>\n\\item <NA>\n\\item <NA>\n\\item <NA>\n\\item <NA>\n\\item <NA>\n\\item <NA>\n\\item <NA>\n\\item <NA>\n\\item <NA>\n\\item <NA>\n\\item <NA>\n\\item <NA>\n\\item <NA>\n\\item <NA>\n\\item <NA>\n\\item <NA>\n\\item <NA>\n\\item <NA>\n\\item <NA>\n\\item <NA>\n\\item <NA>\n\\item <NA>\n\\item <NA>\n\\item <NA>\n\\item <NA>\n\\item 0.5\n\\item 0.5\n\\item 0.5\n\\item 0.5\n\\item 0.5\n\\item 0.5\n\\item 0.5\n\\item 0.5\n\\item 0.75\n\\item 0.75\n\\item 0.75\n\\item 0.75\n\\item 0.75\n\\item 0.75\n\\item 0.75\n\\item 0.75\n\\item 0.75\n\\item 0.75\n\\item 0.75\n\\item 0.75\n\\item 0.75\n\\item 0.75\n\\item 0.75\n\\item 0.75\n\\item 0.75\n\\item 0.75\n\\item 0.75\n\\item 0.75\n\\item 0.75\n\\item 1\n\\item 1\n\\item 1\n\\item 1\n\\item 1\n\\item 1\n\\item 1\n\\item 1\n\\item 1\n\\item 1\n\\item 1\n\\item 1.5\n\\item 1.5\n\\item 1.5\n\\item 1.5\n\\item 1.5\n\\item 1.5\n\\item 1.5\n\\item 1.5\n\\item 1.5\n\\item 1.5\n\\item 1.5\n\\item 1.25\n\\item 1.25\n\\item 1.25\n\\item 1.25\n\\item 1.25\n\\item 1.25\n\\item 1.25\n\\item 1.25\n\\item 1.25\n\\item 1.25\n\\item 1.25\n\\item 1.25\n\\item 1.25\n\\item 1.25\n\\item <NA>\n\\item <NA>\n\\item <NA>\n\\item <NA>\n\\item <NA>\n\\item <NA>\n\\item <NA>\n\\item <NA>\n\\item <NA>\n\\item <NA>\n\\item <NA>\n\\end{enumerate*}\n",
            "text/plain": [
              "   [1] 0.500 0.500 0.500 0.500 0.500 0.500 0.500 0.500 0.500 0.500 0.500 0.500\n",
              "  [13] 0.500 0.500 0.500 0.500 0.500 0.500 0.500 0.500 0.500 0.500 0.500 0.500\n",
              "  [25] 0.500 0.500 0.500 0.500 0.750 0.750 0.750 0.750 0.750 0.750 0.750 0.750\n",
              "  [37] 0.750 0.750 0.750 0.500 0.500 0.500 0.500 0.500 0.500 0.500 0.500 0.500\n",
              "  [49] 0.500 0.500 0.500 0.500 0.500 0.500 0.750 0.750 0.750 0.750 0.750 0.750\n",
              "  [61] 0.750 0.750 0.750 0.750 0.750 0.750 0.750 0.750 0.750 0.500 0.500 0.500\n",
              "  [73] 0.500 0.500 0.500 0.500 0.500 0.500 0.500 0.500    NA    NA    NA    NA\n",
              "  [85]    NA    NA    NA    NA    NA    NA 0.500 0.500 0.500 0.500 0.500 0.500\n",
              "  [97] 0.500 0.500 0.500 0.500 0.500 0.500 0.500 0.500 0.500 0.500 0.500 0.500\n",
              " [109] 0.500 0.500 0.500 0.500 0.500 0.500 0.500 0.500    NA    NA    NA    NA\n",
              " [121]    NA    NA    NA    NA    NA    NA    NA 1.500 1.500 1.500 1.500 1.500\n",
              " [133] 1.500 1.500 1.500 1.500 1.500 2.000 2.000 2.000 2.000 2.000 2.000 2.000\n",
              " [145] 2.000 2.000 2.000 2.000 1.750 1.750 1.750 1.750 1.750 1.750 1.750 1.750\n",
              " [157] 1.750 1.750 1.750 1.250 1.250 1.250 1.250 1.250 1.250 1.250 1.250 1.250\n",
              " [169] 1.250 1.250 1.750 1.750 1.750 1.750 1.750 1.750 1.750 1.750 1.750 1.750\n",
              " [181] 1.750 1.750 1.750 1.750 1.750 1.250 1.250 1.250 1.250 1.250 1.250 1.250\n",
              " [193] 1.250 1.250 1.250 1.250 1.250 1.250 1.250 1.250 0.500 0.500 0.500 0.500\n",
              " [205] 0.500 0.500 0.500 0.500 0.500 0.500 0.500    NA    NA    NA    NA    NA\n",
              " [217]    NA    NA    NA    NA 1.250 1.250 1.250 1.250 1.250 1.250 1.250 1.250\n",
              " [229] 1.250 1.250 1.250 0.750 0.750 0.750 0.750 0.750 0.750 0.750 0.750 0.750\n",
              " [241] 0.750 0.750 0.750 0.750 0.750 0.750 0.750 0.750 0.750 0.750 0.750 0.750\n",
              " [253] 0.750 0.750 0.750 0.750 0.750 0.250 0.250 0.250 0.250 0.250 0.250 0.250\n",
              " [265] 0.250 0.250 0.250 0.250 0.250 0.250 0.250 0.250 0.250 0.750 0.750 0.750\n",
              " [277] 0.750 0.750 0.750 0.750 0.750 0.750 0.750 0.750 0.750 0.750 0.750 0.750\n",
              " [289] 0.500 0.500 0.500 0.500 0.500 0.500 0.500 0.500 0.500 0.500 0.500 0.500\n",
              " [301] 0.500 0.500 0.500 0.500 0.500 0.500 0.500 0.500 0.500 0.500 0.500 0.500\n",
              " [313] 0.500 0.500 0.750 0.750 0.750 0.750 0.750 0.750 0.750 0.750 0.750 0.750\n",
              " [325] 0.750 0.750 0.750 0.750 0.750 0.750 0.750 0.750 0.750 0.750 0.750 2.000\n",
              " [337] 0.500 2.000 0.500 2.000 0.500 2.000 0.500 2.000 0.500 2.000 0.500 2.000\n",
              " [349] 0.500 2.000 0.500 2.000 0.500 2.000 0.500 2.000 0.500 0.500 0.500 0.500\n",
              " [361] 0.500 0.500 0.500 0.500 0.500 0.500 0.500 0.500 2.000 0.750 2.000 0.750\n",
              " [373] 2.000 0.750 2.000 0.750 2.000 0.750 2.000 0.750 2.000 0.750 2.000 0.750\n",
              " [385] 2.000 0.750 2.000 0.750 2.000 0.750 2.000 0.750 2.000 0.750 2.000 0.750\n",
              " [397] 2.000 0.750 0.500 0.500 0.500 0.500 0.500 0.500 0.500 0.500 0.500 0.500\n",
              " [409] 0.500 0.500 0.500 0.500 0.500 0.500 0.500 0.500 0.500 0.500 0.500 0.500\n",
              " [421] 0.500 0.500 0.500 1.750 1.750 1.750 1.750 1.750 1.750 1.750 1.750 1.750\n",
              " [433] 1.750    NA    NA    NA    NA    NA    NA    NA    NA    NA    NA    NA\n",
              " [445] 1.750 1.750 1.750 1.750 1.750 1.750 1.750 1.750 1.750 1.750 1.750 1.750\n",
              " [457] 1.750 1.750 1.750 1.000 1.000 1.000 1.000 1.000 1.000 1.000 1.000 1.000\n",
              " [469] 1.000 1.000 1.000 1.000 1.000 0.500 0.500 0.500 0.500 0.500 0.500 0.500\n",
              " [481] 0.500 0.500 0.500 0.500    NA    NA    NA    NA    NA    NA    NA    NA\n",
              " [493]    NA    NA 0.500 0.500 0.500 0.500 0.500 0.500 0.500 0.100 0.100 0.100\n",
              " [505] 0.100 0.100 0.100 0.100 0.100 0.100 0.100 0.250 0.250 0.250 0.250 0.250\n",
              " [517] 0.250 0.250 0.250 0.250 0.250 0.250 0.250 0.250 0.250 0.250 0.250 0.250\n",
              " [529] 0.250 0.250 0.250 0.250 0.250 0.250 0.250 0.250 0.250 0.250 0.250 0.250\n",
              " [541] 0.250 0.250 0.250 0.250 0.500 0.500 0.500 0.500 0.500 0.500 0.500 0.500\n",
              " [553] 0.500 0.500 0.500 0.500 0.500 0.500 0.500 0.500 0.500 0.500 0.500 0.500\n",
              " [565] 0.500 0.500 0.500 0.500 0.500 0.500 0.500 0.500 0.500 0.500 0.500 0.500\n",
              " [577] 0.500 0.500 0.500 0.500 0.500 0.500 0.500 0.500 0.250 0.250 0.250 0.250\n",
              " [589] 0.250 0.250 0.250 0.250 0.250 0.250    NA    NA    NA    NA    NA    NA\n",
              " [601]    NA    NA 1.500 1.500 1.500 1.500 1.500 1.500 1.500 0.750 0.750 0.750\n",
              " [613] 0.750 0.750 0.750 0.750 0.750 0.500 0.500 0.500 0.500 0.500 0.500 0.500\n",
              " [625] 0.500 0.500 0.500 0.500 0.500 0.500 0.500 0.500 0.500 0.500 0.500 0.500\n",
              " [637] 0.500 0.500 0.500 0.500 0.500 0.500 0.500 0.500 0.500 0.500 0.500 0.500\n",
              " [649] 0.500 0.500 0.750 0.750 0.750 0.750 0.750 0.750 0.750 0.750 0.750 0.750\n",
              " [661] 0.750 0.750 0.750 0.750 0.750 0.500 0.500 0.500 0.500 0.500 0.500 0.500\n",
              " [673] 0.500 0.500 0.500 0.500 0.500 0.500 0.500 0.500 0.500 0.500 0.500 0.500\n",
              " [685] 0.500 0.500 0.500 0.500 0.500 0.500 0.500    NA    NA    NA    NA    NA\n",
              " [697]    NA    NA    NA    NA    NA 0.050 0.050 0.050 0.050 0.050 0.050 0.050\n",
              " [709] 0.050 0.050 0.050 0.050 0.500 0.500 0.500 0.500 0.500 0.500 0.500 0.500\n",
              " [721] 0.500 0.500 0.500 0.250 0.250 0.250 0.250 0.250 0.250 0.250 0.250 0.250\n",
              " [733] 0.250 0.250 0.250 0.250 0.250 0.250 0.250 0.250 0.250 0.250 0.750 0.750\n",
              " [745] 0.750 0.750 0.750 0.750 0.750 0.750 0.750 0.750 0.750 0.500 0.500 0.500\n",
              " [757] 0.500 0.500 0.500 0.500 0.500 0.500 0.500 0.500 0.750 0.750 0.750 0.750\n",
              " [769] 0.750 0.750 0.750 0.750 0.750 0.750 0.750 0.750 0.750 0.750 0.750 0.750\n",
              " [781] 0.750 0.750 0.750 0.750 0.750 0.750 0.750 0.750 0.750 0.750 0.750 0.750\n",
              " [793] 0.750 0.750 0.750 0.750 0.750 0.750 0.750 0.750 0.750 0.750 0.750 0.750\n",
              " [805] 0.750 0.500 0.500 0.500 0.500 0.500 0.500 0.500 0.500 0.500 0.500 0.500\n",
              " [817]    NA    NA    NA    NA    NA    NA    NA    NA    NA    NA 0.750 0.750\n",
              " [829] 0.750 0.750 0.750 0.750 0.750 1.000 1.000 1.000 1.000 1.000 1.000 1.000\n",
              " [841] 1.000 1.000 1.000 1.000 1.250 1.250 1.250 1.250 1.250 1.250 1.250 1.250\n",
              " [853] 1.250 1.250 1.250 1.500 1.500 1.500 1.500 1.500 1.500 1.500 1.500 1.500\n",
              " [865] 1.500 1.500 1.500 1.500 1.500 1.500 1.250 1.250 1.250 1.250 1.250 1.250\n",
              " [877] 1.250 1.250 1.250 1.500 1.500 1.500 1.500 1.500 1.500 1.500 1.500 1.500\n",
              " [889] 1.500 1.500 1.250 1.250 1.250 1.250 1.250 1.250 1.250 1.250 1.250 1.250\n",
              " [901] 1.250 1.000 1.000 1.000 1.000 1.000 1.000 1.000 1.000 1.000 1.000 1.000\n",
              " [913] 1.000 1.000 1.000 1.000 1.000 1.000 1.000 1.000 1.000 1.000 1.000 1.000\n",
              " [925] 1.000 1.000 1.000 1.000 1.000 1.000 1.000    NA    NA    NA    NA    NA\n",
              " [937]    NA    NA    NA    NA    NA    NA 0.750 0.750 0.750 0.750 0.750 0.500\n",
              " [949] 0.500 0.500 0.500 0.500 0.500 0.500 0.500 0.500 1.000 1.000 1.000 1.000\n",
              " [961] 1.000 1.000 0.250 0.250 0.250 0.250 0.250 0.250 0.250 0.250 0.250 0.250\n",
              " [973] 0.250    NA    NA 1.750 1.750 1.750 1.750 1.750 1.750 1.750 1.750 1.750\n",
              " [985] 1.750 2.000 2.000 2.000 2.000 2.000 2.000 2.000 2.000 2.000 2.000 2.000\n",
              " [997] 2.000 2.000 2.000 2.000 2.000 2.000 2.000 2.000 2.000 2.000 2.000 1.750\n",
              "[1009] 1.750 1.750 1.750 1.750 1.750 1.750 1.750 1.750 1.750 1.750    NA    NA\n",
              "[1021]    NA    NA    NA    NA    NA    NA    NA    NA    NA    NA    NA    NA\n",
              "[1033]    NA 1.500 1.500 1.500 1.500 1.500 1.500 1.500 1.500 1.500 1.500 1.500\n",
              "[1045] 1.500 1.500 1.500 1.500    NA    NA    NA    NA    NA    NA    NA    NA\n",
              "[1057]    NA    NA    NA 1.750 0.750 0.750 0.750 0.750 0.250 0.250 0.250 0.250\n",
              "[1069] 0.250 0.250 0.250 0.250 0.250 0.250 0.250 0.250 0.250 0.250 0.250 0.250\n",
              "[1081] 0.250 0.250 0.250 0.250 0.500 0.500 0.500 0.500 0.500 0.500 0.500 0.500\n",
              "[1093] 0.500 0.500 0.500 0.250 0.250 0.250 0.250 0.250 0.250 0.250 0.250 0.250\n",
              "[1105] 0.250 0.250 0.500 0.500 0.500 0.500 0.500 0.500 0.500 0.500 0.500 0.500\n",
              "[1117] 0.500 0.500 0.500 0.500 0.500 0.250 0.250 0.250 0.250 0.250 0.250 0.250\n",
              "[1129] 0.250 0.250 0.250 0.250 0.250 0.250 0.250 0.500 0.500 0.500 0.500 0.500\n",
              "[1141] 0.500 0.500 0.500 0.500 0.500 0.500 0.250 0.250 0.250 0.250 0.250 0.250\n",
              "[1153] 0.250 0.250 0.250 0.250    NA    NA    NA    NA    NA    NA    NA    NA\n",
              "[1165]    NA    NA    NA    NA    NA    NA    NA    NA    NA    NA    NA    NA\n",
              "[1177]    NA    NA    NA    NA    NA    NA    NA    NA 0.075 0.075 0.075 0.075\n",
              "[1189] 0.075 0.075 0.250 0.250 0.250 0.250 0.250 0.250 0.250 0.250 0.250 0.250\n",
              "[1201] 0.250 0.250 0.250 0.250 0.250 0.250 0.250 0.250 0.250 0.250 0.250 0.250\n",
              "[1213] 0.250 0.250 0.250    NA    NA    NA    NA    NA    NA    NA    NA 0.050\n",
              "[1225] 0.050 0.050 0.050 0.050 0.050 0.050 0.050 0.050 0.050 0.050 0.050 0.050\n",
              "[1237] 0.050 0.050 0.050 0.050 0.050 0.050 0.050 0.050 0.050 0.050 0.050 0.050\n",
              "[1249] 0.050 0.050 0.050 0.050    NA    NA    NA    NA    NA    NA    NA    NA\n",
              "[1261] 0.750 0.750 0.750 0.750 0.750 0.750 0.750 0.750 0.750 0.750 0.750 0.750\n",
              "[1273] 0.750 0.750 0.750 0.750 0.750 0.750 0.750 0.500 0.500 0.500 0.500 0.500\n",
              "[1285] 0.500 0.500 0.500 0.500 0.500 0.500 0.500 0.500 0.500 0.500 0.500 0.500\n",
              "[1297] 0.500 0.500 0.500 0.500 0.500 0.250 0.250 0.250 0.250 0.250 0.250 0.250\n",
              "[1309] 0.250 0.250 0.250 0.250 0.250 0.250 0.250 0.250 0.100 0.100 0.100 0.100\n",
              "[1321] 0.100 0.100 0.100 0.100 0.100 0.100 0.100 0.100 0.100 0.100 0.100 0.100\n",
              "[1333] 0.100 0.100 0.100 0.100 0.100    NA    NA    NA    NA    NA    NA    NA\n",
              "[1345]    NA 0.250 0.250 0.250 0.250 0.250 0.250 0.250 0.250 0.250 0.250 0.750\n",
              "[1357] 0.750 0.750 0.750 0.750 1.000 1.000 1.000 1.000 1.000 1.000 1.000 1.000\n",
              "[1369] 1.000 1.000 1.000 0.500 0.500 0.500 0.500 0.500 0.500 0.500 0.500 0.500\n",
              "[1381] 0.500 0.500 0.250 0.250 0.250 0.250 0.250 0.250 0.250 0.250 0.250 0.250\n",
              "[1393] 0.250 0.250 0.250 0.250 0.250 0.025 0.025 0.025 0.025 0.025 0.025 0.025\n",
              "[1405] 0.025 0.025 0.025 0.025 0.025 0.025 0.025 0.025 0.025 0.025 0.025 0.025\n",
              "[1417] 0.025 0.025 0.025 0.025 0.025 0.025 0.075 0.075 0.075 0.075 0.075 0.075\n",
              "[1429] 0.075 0.075 0.750 0.750 0.750 0.750 0.750 0.750 0.750 0.750 0.750 0.750\n",
              "[1441] 0.750 0.750 0.750 0.750 0.750 0.250 0.250 0.250 0.250 0.250 0.250 0.250\n",
              "[1453] 0.250 0.250 0.250 0.250 0.250 0.250 0.250 0.500 0.500 0.500 0.500 0.500\n",
              "[1465] 0.250 0.250 0.250 0.250 0.250 0.250 0.250 0.250 0.250 0.250 0.250 0.250\n",
              "[1477] 0.250 0.250 0.250 0.250 0.250 0.250 0.250 0.250 0.250 0.250 0.250 0.250\n",
              "[1489] 0.250 0.250 0.250 0.250 0.250 0.250 0.250 0.250 0.500 0.500 0.500 0.500\n",
              "[1501] 0.500 0.500 0.500 0.500 0.500 0.500 0.500 0.250 0.250 0.250 0.250 0.250\n",
              "[1513] 0.250 0.250 0.250 0.250 0.250 0.250 0.250 0.250 0.250 0.250 0.500 0.500\n",
              "[1525] 0.500 0.500 0.500 0.500 0.500 0.500 0.500 0.500 0.500 0.500 0.500 0.500\n",
              "[1537] 0.500 0.500 0.500 0.500 0.500 0.500 0.500 0.500 0.500 0.500 0.500 0.500\n",
              "[1549] 0.500 0.500 0.500 0.500 0.500 0.500 0.500 0.500 0.500 0.500 0.500 0.075\n",
              "[1561] 0.075 0.075 0.075 0.075 0.075 0.075 0.075 0.075 0.075 0.075 0.250 0.250\n",
              "[1573] 0.250 0.250 0.250 0.250 0.250 0.250 0.250 0.250 0.250 0.100 0.100 0.100\n",
              "[1585] 0.100 0.100 0.100 0.100 0.100 0.100 0.100 0.100 0.100 0.100 0.100 0.100\n",
              "[1597] 0.250 0.250 0.250 0.250 0.250 0.250 0.250 0.250 0.250 0.250 0.250 0.250\n",
              "[1609] 0.250 0.250 0.250 0.250 0.250 0.250 0.250 0.250 0.250 0.250 0.250 0.250\n",
              "[1621] 0.250 1.500 1.500 1.500 1.500 0.100 0.100 0.100 0.100 0.100 0.100 0.100\n",
              "[1633] 0.250 0.250 0.250 0.250 0.250 0.250 0.250 0.250 0.250 0.250 0.750 0.750\n",
              "[1645] 0.750 0.750 0.750 0.750 0.750 0.750 0.750 0.750 0.750 0.750 0.750 0.750\n",
              "[1657] 0.750 0.750 0.750 0.750 0.750 1.000 1.000 1.000 1.000 1.000 1.000 1.000\n",
              "[1669] 1.000 1.000 1.000 1.000 1.000 1.000 1.000 1.000 1.000 1.000 1.000 1.000\n",
              "[1681] 1.000 1.000 1.000 1.000 1.000 1.000 1.000 1.000 1.000 1.000 1.000 1.000\n",
              "[1693] 1.000 1.000 1.000 1.000 1.000 1.000 1.000 1.000 1.000    NA    NA    NA\n",
              "[1705]    NA    NA    NA    NA    NA    NA    NA    NA 0.750 0.750 0.750 0.750\n",
              "[1717] 0.750 0.750 0.750 0.750 0.750 0.750 0.750 0.750 0.750 0.750 0.750 0.750\n",
              "[1729] 0.750 0.750 0.750 0.750 0.750 0.750 0.750 0.750 0.750 0.750 0.750 0.750\n",
              "[1741] 0.750 0.750 0.750 0.750 0.750 0.750 0.750 0.750 0.750 1.000 1.000 1.000\n",
              "[1753] 1.000 1.000 1.000 1.000 1.000 1.000 1.000 1.000 1.000 1.000 1.000 1.000\n",
              "[1765]    NA    NA    NA    NA    NA    NA    NA    NA    NA    NA 1.000 1.000\n",
              "[1777] 1.000 1.000 1.000 1.000 1.000 1.500 1.500 1.500 1.500 1.500 1.500 1.500\n",
              "[1789] 1.500 1.500 1.500 1.500 1.500 1.500 1.500 1.500 1.500 1.500 1.500 1.500\n",
              "[1801] 1.500 1.500 1.500 1.500 1.500 1.500 1.500 1.500 1.500 1.500 1.500 1.500\n",
              "[1813] 1.500    NA    NA    NA    NA    NA    NA    NA    NA    NA    NA    NA\n",
              "[1825]    NA    NA    NA    NA    NA    NA    NA    NA    NA    NA    NA    NA\n",
              "[1837]    NA    NA    NA    NA    NA    NA    NA    NA    NA    NA    NA    NA\n",
              "[1849]    NA    NA    NA    NA    NA    NA 2.000 2.000 2.000 2.000 2.000 2.000\n",
              "[1861] 2.000 2.000 2.000 2.000 2.000 2.000 2.000 2.000 2.000 1.500 1.500 1.500\n",
              "[1873] 1.500 1.500 1.500 1.500 0.750 0.750 0.750 0.750 0.750 0.750 0.750    NA\n",
              "[1885]    NA    NA    NA    NA    NA    NA    NA 0.250 0.250 0.250 0.250 0.250\n",
              "[1897] 0.250 0.250 0.250 0.250 0.750 0.750 0.750 0.750 0.750 0.750 0.750 0.750\n",
              "[1909] 0.750 0.750 0.500 0.500 0.500 0.500 0.500 0.500 0.500 0.500 0.250 0.250\n",
              "[1921] 0.250 0.250 0.250 0.250 0.250 0.250 0.250 0.250 0.250 1.000 1.000 1.000\n",
              "[1933] 1.000 1.000 1.000 1.000 1.000 1.000 1.000 1.000 1.250 1.250 1.250 1.250\n",
              "[1945] 1.250 1.250 1.250 1.250 1.250 1.250 1.250 1.250 1.250 1.250 1.250 1.000\n",
              "[1957] 1.000 1.000 1.000 1.000 1.000 1.000 1.000 1.000 1.000 1.000 1.000 1.000\n",
              "[1969] 1.000    NA    NA    NA    NA    NA    NA    NA    NA    NA    NA    NA\n",
              "[1981]    NA    NA    NA    NA    NA    NA    NA    NA    NA    NA 0.100 0.100\n",
              "[1993] 0.100 0.100 0.100 0.100 0.100 0.100 0.100 0.250 0.250 0.250 0.250 0.250\n",
              "[2005] 0.250 0.250 0.250 0.250 0.250 0.500 0.500 0.500 0.500 0.500 0.500 0.500\n",
              "[2017] 0.500 0.500 0.500 0.500 0.500 0.500 0.500 0.500 0.500 0.500 0.500 0.500\n",
              "[2029] 0.500 0.500 0.500 0.500 0.500 0.500 0.500 0.500 0.500 0.500 0.500 0.500\n",
              "[2041] 0.500 0.500 0.500 0.500 0.500 0.500 0.500 0.500 0.500 0.500 0.500 0.500\n",
              "[2053] 0.500 0.500 0.500 0.500 0.500 0.250 0.250 0.250 0.250 0.250 0.250 0.250\n",
              "[2065] 0.250 0.250 0.250 0.250 0.250 0.250 0.500 0.500 0.500 0.500 0.500 0.500\n",
              "[2077] 0.500 0.500 0.500 0.500 0.500    NA    NA    NA    NA    NA    NA    NA\n",
              "[2089]    NA    NA    NA 0.100 0.100 0.100 0.100 0.100 0.100 0.100 0.500 0.500\n",
              "[2101] 0.500 0.500 0.500 0.500 0.500 0.500 0.500 0.500 0.500 0.500 0.500 0.500\n",
              "[2113] 0.500 0.500 0.500 0.500 0.500 0.500 0.500 1.250 1.250 1.250 1.250 1.250\n",
              "[2125] 1.250 1.250 1.250 1.250 1.250 1.250 1.250 1.250 1.250 1.250    NA    NA\n",
              "[2137]    NA    NA    NA    NA    NA    NA    NA    NA    NA    NA    NA    NA\n",
              "[2149]    NA    NA    NA    NA    NA    NA    NA 1.000 1.000 1.000 1.000 1.000\n",
              "[2161]    NA    NA    NA    NA    NA    NA    NA    NA 1.000 1.000 1.000 1.000\n",
              "[2173] 1.000 1.000 1.000    NA    NA    NA    NA    NA    NA    NA    NA    NA\n",
              "[2185]    NA    NA    NA    NA    NA    NA    NA    NA    NA    NA    NA    NA\n",
              "[2197]    NA    NA    NA    NA    NA    NA    NA    NA    NA    NA    NA    NA\n",
              "[2209]    NA    NA    NA    NA    NA    NA    NA    NA    NA    NA    NA    NA\n",
              "[2221]    NA    NA    NA    NA    NA    NA    NA    NA    NA    NA    NA    NA\n",
              "[2233]    NA    NA    NA    NA    NA 0.250 0.250 0.250 0.250 0.250 0.250 0.250\n",
              "[2245] 0.250 0.250 0.250 0.500 0.500 0.500 0.500 0.500 0.500 0.500 0.500 0.500\n",
              "[2257] 0.500 0.500 1.250 1.250 1.250 1.250 1.250 1.250 1.250 1.250 1.250 1.250\n",
              "[2269] 1.250 1.250 1.250 1.250 1.250 1.750 1.750 1.750 1.750 1.750 1.750 1.750\n",
              "[2281] 1.250 1.250 1.250 1.250 1.250 1.250 1.250 1.250 1.250 1.750 1.750 1.750\n",
              "[2293] 1.750 1.750 1.750 1.750 1.750 1.750 1.750 1.750    NA    NA    NA    NA\n",
              "[2305]    NA    NA    NA    NA    NA    NA    NA    NA    NA    NA    NA    NA\n",
              "[2317]    NA    NA    NA    NA    NA    NA    NA    NA    NA    NA    NA    NA\n",
              "[2329]    NA    NA    NA    NA    NA    NA    NA    NA    NA    NA    NA    NA\n",
              "[2341] 0.750 0.750 0.750 0.750 0.750 0.750 1.250 1.250 1.250 1.250 1.250 1.250\n",
              "[2353] 1.250 1.250 1.250 1.250    NA    NA    NA    NA    NA    NA    NA    NA\n",
              "[2365]    NA    NA    NA    NA    NA    NA    NA    NA    NA    NA    NA    NA\n",
              "[2377]    NA    NA    NA    NA    NA    NA 0.500 0.500 0.500 0.500 0.500 0.500\n",
              "[2389] 0.500 0.500 0.500 0.500 0.500 0.500 0.500 0.500 0.500    NA    NA    NA\n",
              "[2401]    NA    NA    NA    NA    NA    NA    NA    NA    NA    NA    NA    NA\n",
              "[2413]    NA    NA    NA    NA    NA    NA    NA    NA    NA    NA    NA    NA\n",
              "[2425]    NA    NA    NA    NA    NA    NA 1.250 1.250 1.250 1.250 1.250 1.250\n",
              "[2437]    NA    NA    NA    NA    NA    NA    NA 0.500 0.500 0.500 0.500 0.500\n",
              "[2449] 0.500 0.500 1.000 1.000 1.000 1.000 1.000 1.000 1.000 1.000 1.000 1.000\n",
              "[2461] 1.250 1.250 1.250 1.250 1.250 1.250 1.250 1.250 0.750 0.750 0.750 0.750\n",
              "[2473] 0.750 0.750 0.750 0.750 0.750 0.750 0.750 1.500 1.500 1.500 1.500 1.500\n",
              "[2485] 1.500 1.500 1.500 1.500 1.500 1.500    NA    NA    NA    NA    NA    NA\n",
              "[2497]    NA    NA    NA    NA    NA    NA    NA    NA    NA    NA    NA    NA\n",
              "[2509]    NA    NA    NA    NA    NA    NA    NA    NA    NA    NA    NA    NA\n",
              "[2521]    NA    NA    NA    NA    NA    NA    NA    NA    NA    NA    NA    NA\n",
              "[2533]    NA    NA    NA    NA 0.750 0.750 0.750 0.750 0.750 0.750 0.750 1.500\n",
              "[2545] 1.500 1.500 1.500 1.500 1.500 1.500 1.500 1.500 1.500 1.500 1.750 1.750\n",
              "[2557] 1.750 1.750 1.750 1.750 1.750 1.750 1.750 1.750 1.750    NA    NA    NA\n",
              "[2569]    NA    NA    NA    NA    NA    NA    NA    NA 0.500 0.100 0.100 0.100\n",
              "[2581] 1.000 1.000 1.000 1.000 1.000 0.500 0.500 0.500 0.500 0.500 0.500 1.250\n",
              "[2593] 1.250 1.250 1.250 1.250 1.250 1.250 1.250 1.250    NA    NA    NA    NA\n",
              "[2605]    NA    NA    NA    NA    NA    NA    NA    NA    NA    NA    NA    NA\n",
              "[2617]    NA    NA    NA    NA    NA    NA    NA    NA    NA    NA    NA 0.500\n",
              "[2629] 0.500 0.500 0.500 0.500 0.500 0.500 0.500 0.750 0.750 0.750 0.750 0.750\n",
              "[2641] 0.750 0.750 0.750 0.750 0.750 0.750 0.750 0.750 0.750 0.750 0.750 0.750\n",
              "[2653] 0.750 0.750 0.750 0.750 1.000 1.000 1.000 1.000 1.000 1.000 1.000 1.000\n",
              "[2665] 1.000 1.000 1.000 1.500 1.500 1.500 1.500 1.500 1.500 1.500 1.500 1.500\n",
              "[2677] 1.500 1.500 1.250 1.250 1.250 1.250 1.250 1.250 1.250 1.250 1.250 1.250\n",
              "[2689] 1.250 1.250 1.250 1.250    NA    NA    NA    NA    NA    NA    NA    NA\n",
              "[2701]    NA    NA    NA"
            ]
          },
          "metadata": {}
        }
      ]
    },
    {
      "cell_type": "code",
      "source": [],
      "metadata": {
        "id": "5tAE5C5YYd_D"
      },
      "execution_count": null,
      "outputs": []
    }
  ]
}