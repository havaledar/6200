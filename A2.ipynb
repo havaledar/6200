{
  "nbformat": 4,
  "nbformat_minor": 0,
  "metadata": {
    "colab": {
      "provenance": [],
      "authorship_tag": "ABX9TyMw5t1Ccx6DuiOMxIbSXNqZ",
      "include_colab_link": true
    },
    "kernelspec": {
      "name": "ir",
      "display_name": "R"
    },
    "language_info": {
      "name": "R"
    }
  },
  "cells": [
    {
      "cell_type": "markdown",
      "metadata": {
        "id": "view-in-github",
        "colab_type": "text"
      },
      "source": [
        "<a href=\"https://colab.research.google.com/github/havaledar/6200/blob/main/A2.ipynb\" target=\"_parent\"><img src=\"https://colab.research.google.com/assets/colab-badge.svg\" alt=\"Open In Colab\"/></a>"
      ]
    },
    {
      "cell_type": "code",
      "execution_count": 2,
      "metadata": {
        "colab": {
          "base_uri": "https://localhost:8080/"
        },
        "id": "ozbZrZsVKfaZ",
        "outputId": "5a832112-f75d-4d1d-89e3-85859c6044f0"
      },
      "outputs": [
        {
          "output_type": "stream",
          "name": "stderr",
          "text": [
            "Warning message in system(\"timedatectl\", intern = TRUE):\n",
            "“running command 'timedatectl' had status 1”\n",
            "── \u001b[1mAttaching packages\u001b[22m ─────────────────────────────────────── tidyverse 1.3.1 ──\n",
            "\n",
            "\u001b[32m✔\u001b[39m \u001b[34mggplot2\u001b[39m 3.3.6      \u001b[32m✔\u001b[39m \u001b[34mpurrr  \u001b[39m 0.3.5 \n",
            "\u001b[32m✔\u001b[39m \u001b[34mtibble \u001b[39m 3.1.7      \u001b[32m✔\u001b[39m \u001b[34mdplyr  \u001b[39m 1.0.10\n",
            "\u001b[32m✔\u001b[39m \u001b[34mtidyr  \u001b[39m 1.2.1      \u001b[32m✔\u001b[39m \u001b[34mstringr\u001b[39m 1.4.1 \n",
            "\u001b[32m✔\u001b[39m \u001b[34mreadr  \u001b[39m 2.1.3      \u001b[32m✔\u001b[39m \u001b[34mforcats\u001b[39m 0.5.2 \n",
            "\n",
            "── \u001b[1mConflicts\u001b[22m ────────────────────────────────────────── tidyverse_conflicts() ──\n",
            "\u001b[31m✖\u001b[39m \u001b[34mdplyr\u001b[39m::\u001b[32mfilter()\u001b[39m masks \u001b[34mstats\u001b[39m::filter()\n",
            "\u001b[31m✖\u001b[39m \u001b[34mdplyr\u001b[39m::\u001b[32mlag()\u001b[39m    masks \u001b[34mstats\u001b[39m::lag()\n",
            "\n"
          ]
        }
      ],
      "source": [
        "## reading in data\n",
        "library(tidyverse)\n",
        "foot <- read.csv(\"https://raw.githubusercontent.com/havaledar/6200/main/afferentData.csv\", sep=\",\", skip=1, header=F)\n",
        "colnames(foot) <- c(\"session\",\"afferent\", \"subject\", \"sex\", \"age\", \"afferentClass\",\"genloc\",\"specloc\",\n",
        "                    \"RFsize\", \"RFhardness\",\"frequency\",\"amplitude\", \"AvgInst\", \"peak3\",\"impCycle\")\n",
        "foot <- data.frame(foot)"
      ]
    },
    {
      "cell_type": "code",
      "source": [
        "## identify missing values\n",
        "# > rownames(foot)[(is.na(foot$impCycle))]\n",
        "# [1] \"474\"\n",
        "# foot[474,]\n",
        "\n",
        "## remove them for this analysis\n",
        "foot <- foot[-474,]"
      ],
      "metadata": {
        "id": "q69ehKP7Lp0O"
      },
      "execution_count": 4,
      "outputs": []
    },
    {
      "cell_type": "code",
      "source": [
        "## pull out unique afferents and\n",
        "## label unique afferents in database\n",
        "Unique.aff <- distinct(foot, session, afferent, subject, afferentClass)\n",
        "Unique.aff <- Unique.aff[order(Unique.aff$afferent, Unique.aff$subject, Unique.aff$afferentClass),]"
      ],
      "metadata": {
        "id": "qHVezeqoL2CP"
      },
      "execution_count": 5,
      "outputs": []
    },
    {
      "cell_type": "code",
      "source": [
        "## need (subject and afferent) to uniquely define an afferent\n",
        "## create newID so only need one variable to identify afferent\n",
        "foot$newID <- rep(0,nrow(foot))\n",
        "for(i in 1:nrow(Unique.aff)){ \n",
        "  affid1 <- Unique.aff$subject[i]   # subsetting single afferent\n",
        "  affid2 <- Unique.aff$afferent[i]\n",
        "  foot$newID[foot$subject==affid1 & foot$afferent==affid2] <- i\n",
        "}"
      ],
      "metadata": {
        "id": "hhs9v5mxL5h2"
      },
      "execution_count": 6,
      "outputs": []
    },
    {
      "cell_type": "code",
      "source": [
        "## move new afferentID to just after original afferent ID\n",
        "foot <- foot %>% relocate(newID, .after = afferent)"
      ],
      "metadata": {
        "id": "ZZUoLp1HMWg2"
      },
      "execution_count": 7,
      "outputs": []
    },
    {
      "cell_type": "code",
      "source": [
        "#################################################################\n",
        "## Q1 staring descriptives...\n",
        "#################################################################\n",
        "## identify unique afferents by session, subject, afferent, class\n",
        "##order columns with characters together and continuous together\n",
        "uniqueAfferents <- foot[!duplicated(foot$newID), c(1:4,7,5,8:9,6,10:16)]\n",
        "\n",
        "# cross-tabulate by subject and afferent class\n",
        "afferentSummary <- table(uniqueAfferents$subject, uniqueAfferents$afferentClass)\n",
        "\n",
        "# add row sums to count total number afferents per subject\n",
        "afferentSummary <- cbind(afferentSummary, rowSums(afferentSummary))\n",
        "\n",
        "# count number observations per subject, append to afferentSummary\n",
        "numObs <- as.data.frame(foot %>% group_by(subject) %>% tally())\n",
        "afferentSummary <- cbind(afferentSummary, numObs$n)\n",
        "colnames(afferentSummary)[5:6] <- c(\"nafferents\", \"numObs\")\n",
        "\n",
        "# append column sums to tally number afferents by class, and total number obs\n",
        "afferentSummary <- rbind(afferentSummary, colSums(afferentSummary))\n",
        "rownames(afferentSummary)[length(rownames(afferentSummary))] <- \"Totals\"\n",
        "\n",
        "nsessions <- length(unique(uniqueAfferents$session))\n",
        "nsubjects <- apply(afferentSummary[-17,1:4],2, function(x){return(sum(x>0))})"
      ],
      "metadata": {
        "id": "HJNLbB1CMlnl"
      },
      "execution_count": 9,
      "outputs": []
    },
    {
      "cell_type": "code",
      "source": [
        "#######################################\n",
        "## Q2 table of demographic information#\n",
        "#######################################\n",
        "\n",
        "## using tables overall and then by afferent class, \n",
        "## use cbind to collate them into one table\n",
        "sexSummary <- apply(table(uniqueAfferents$sex,uniqueAfferents$afferentClass),1,sum)\n",
        "sexSummary <- cbind(sexSummary, round(addmargins(table(uniqueAfferents$sex,uniqueAfferents$afferentClass),2)/max(uniqueAfferents$newID),2))\n",
        "\n",
        "genSummary <- apply(table(uniqueAfferents$genloc,uniqueAfferents$afferentClass),1,sum)\n",
        "genSummary <- cbind(genSummary, round(addmargins(table(uniqueAfferents$genloc,uniqueAfferents$afferentClass),2)/max(uniqueAfferents$newID),2))\n",
        "\n",
        "specSummary <- apply(table(uniqueAfferents$specloc,uniqueAfferents$afferentClass),1,sum)\n",
        "specSummary <- cbind(specSummary, round(addmargins(table(uniqueAfferents$specloc,uniqueAfferents$afferentClass),2)/max(uniqueAfferents$newID),2))\n",
        "\n",
        "## bind the rows of the demographic tables together\n",
        "## to provide a single unified table\n",
        "charSummary <- rbind(sexSummary, genSummary)\n",
        "charSummary <- rbind(charSummary, specSummary)\n",
        "charSummary <- rbind(charSummary, apply(sexSummary,2,sum))\n",
        "colnames(charSummary)[1] <- \"n\"\n",
        "\n",
        "## descriptives for continuous variables\n",
        "## count number of missing values\n",
        "var.list <- c(\"age\", \"RFsize\", \"RFhardness\")\n",
        "sapply(var.list, function(var){sum(is.na(uniqueAfferents[[var]]))})\n",
        "\n",
        "## overall summaries and summaries by afferent class\n",
        "## BUT need to filter table to remove NAs\n",
        "## before calculating summary stats\n",
        "## Also need to compute overall stats separate\n",
        "## from afferent class specific stats\n",
        "## and then bind the table togethe (rowwise)\n",
        "\n",
        "## Age\n",
        "all_ageSummary <- uniqueAfferents %>% \n",
        "  filter(!is.na(age)) %>% select(age) %>%\n",
        "  summarise(afferentClass=\"overall\", n=n(), mean=mean(age), stdev=sd(age), min=min(age), max=max(age))\n",
        "ageSummary <- uniqueAfferents %>% group_by(afferentClass) %>% \n",
        "  filter(!is.na(age)) %>% select(age) %>%\n",
        "  summarise(n=n(), mean=mean(age), stdev=sd(age), min=min(age), max=max(age))\n",
        "ageSummary <- bind_rows(all_ageSummary, ageSummary)\n",
        "\n",
        "## Receptive Field Size\n",
        "all_rfsSummary <- uniqueAfferents %>% \n",
        "  filter(!is.na(RFsize)) %>% select(RFsize) %>%\n",
        "  summarise(afferentClass=\"overall\", n=n(), mean=mean(RFsize), stdev=sd(RFsize), min=min(RFsize), max=max(RFsize))\n",
        "rfsSummary <- uniqueAfferents %>% group_by(afferentClass) %>% \n",
        "  filter(!is.na(RFsize)) %>% select(RFsize) %>%\n",
        "  summarise(n=n(), mean=mean(RFsize), stdev=sd(RFsize), min=min(RFsize), max=max(RFsize))\n",
        "rfsSummary <- bind_rows(all_rfsSummary, rfsSummary)\n",
        "\n",
        "## Receptive Field Hardness\n",
        "all_rfhSummary <- uniqueAfferents %>% \n",
        "  filter(!is.na(RFhardness)) %>% select(RFhardness) %>%\n",
        "  summarise(afferentClass=\"overall\", n=n(), mean=mean(RFhardness), stdev=sd(RFhardness), \n",
        "            min=min(RFhardness), max=max(RFhardness))\n",
        "rfhSummary <- uniqueAfferents %>% group_by(afferentClass) %>% \n",
        "  filter(!is.na(RFhardness)) %>% select(RFhardness) %>%\n",
        "  summarise(n=n(), mean=mean(RFhardness), stdev=sd(RFhardness), \n",
        "            min=min(RFhardness), max=max(RFhardness))\n",
        "rfhSummary <- bind_rows(all_rfhSummary, rfhSummary)\n",
        "\n",
        "## combine all quantitative variable stats together into one table\n",
        "quantSummary <- bind_rows(ageSummary, rfsSummary, rfhSummary)"
      ],
      "metadata": {
        "colab": {
          "base_uri": "https://localhost:8080/",
          "height": 86
        },
        "id": "_FNS0PclMn3X",
        "outputId": "48f4da75-90d4-4736-9237-b928da1a262b"
      },
      "execution_count": 10,
      "outputs": [
        {
          "output_type": "display_data",
          "data": {
            "text/html": [
              "<style>\n",
              ".dl-inline {width: auto; margin:0; padding: 0}\n",
              ".dl-inline>dt, .dl-inline>dd {float: none; width: auto; display: inline-block}\n",
              ".dl-inline>dt::after {content: \":\\0020\"; padding-right: .5ex}\n",
              ".dl-inline>dt:not(:first-of-type) {padding-left: .5ex}\n",
              "</style><dl class=dl-inline><dt>age</dt><dd>0</dd><dt>RFsize</dt><dd>1</dd><dt>RFhardness</dt><dd>3</dd></dl>\n"
            ],
            "text/markdown": "age\n:   0RFsize\n:   1RFhardness\n:   3\n\n",
            "text/latex": "\\begin{description*}\n\\item[age] 0\n\\item[RFsize] 1\n\\item[RFhardness] 3\n\\end{description*}\n",
            "text/plain": [
              "       age     RFsize RFhardness \n",
              "         0          1          3 "
            ]
          },
          "metadata": {}
        },
        {
          "output_type": "stream",
          "name": "stderr",
          "text": [
            "\u001b[1m\u001b[22mAdding missing grouping variables: `afferentClass`\n",
            "\u001b[1m\u001b[22mAdding missing grouping variables: `afferentClass`\n",
            "\u001b[1m\u001b[22mAdding missing grouping variables: `afferentClass`\n"
          ]
        }
      ]
    },
    {
      "cell_type": "code",
      "source": [
        "#########################################################\n",
        "## Q3. Compute firing threshold and entrianment threshold\n",
        "##     which differs for each afferent at each frequency\n",
        "#########################################################\n",
        "\n",
        "ft <- foot %>%   # firing threshold\n",
        "  group_by(newID, frequency) %>%\n",
        "  filter(impCycle > 0)  %>%\n",
        "  summarise(firingThreshold = min(amplitude)) %>%\n",
        "  ungroup()\n",
        "\n",
        "ent <- foot %>%   # entrainment threshold\n",
        "  group_by(newID, frequency) %>%\n",
        "  filter(impCycle > 0.9)  %>%\n",
        "  summarise(entrainThreshold = min(amplitude))%>%\n",
        "  ungroup()\n",
        "\n",
        "## merge it back with full data, first \n",
        "## firing threshold then entrainment threshold \n",
        "footJoined <- foot %>% left_join(ft, by=c(\"newID\", \"frequency\")) %>%\n",
        "                     left_join(ent, by=c(\"newID\", \"frequency\")) \n",
        "dim(footJoined)\n",
        "## footJoined now holds impCycle, firingThreshold and entrainThreshold\n",
        "## overall summaries and summaries by afferent class\n",
        "## using lapply() to go through the variable list\n",
        "## first filter out NAs before calculating summary stats\n",
        "\n",
        "# overall for impulses per cycle\n",
        "var.list <- c(\"frequency\", \"amplitude\", \"impCycle\")\n",
        "allimpSummary <- lapply(var.list, function(x){\n",
        "  footJoined %>% \n",
        "    filter(!is.na(.data[[x]])) %>% \n",
        "    summarise(afferentClass=\"overall\", variable=x,n=n(), naff=n_distinct(newID), nsub=n_distinct(subject), mean=mean(.data[[x]]), stdev=sd(.data[[x]]), \n",
        "              min=min(.data[[x]]), med=median(.data[[x]]), max=max(.data[[x]]))\n",
        "}) %>%\n",
        "  bind_rows()\n",
        "\n",
        "# impulses per cycle by afferent class \n",
        "impSummary <- lapply(var.list, function(x){\n",
        "  footJoined %>% group_by(afferentClass) %>%\n",
        "    filter(!is.na(.data[[x]])) %>% \n",
        "    summarise(variable=x,n=n(), naff=n_distinct(newID), nsub=n_distinct(subject), mean=mean(.data[[x]]), stdev=sd(.data[[x]]), \n",
        "              min=min(.data[[x]]), med=median(.data[[x]]), max=max(.data[[x]]))\n",
        "}) %>%\n",
        "  bind_rows()\n",
        "\n",
        "# combine summaries into one table\n",
        "impDescriptives <- allimpSummary %>% bind_rows(impSummary) %>%\n",
        "  arrange(variable) \n",
        "  \n",
        "# overall for firing threshold\n",
        "var.list <- c(\"frequency\", \"amplitude\")\n",
        "allftSummary <- lapply(var.list, function(x){\n",
        "  footJoined %>% \n",
        "    filter(!is.na(.data[[x]])) %>% \n",
        "    filter(firingThreshold==amplitude) %>%\n",
        "    summarise(afferentClass=\"overall\", variable=x, n=n(), naff=n_distinct(newID), nsub=n_distinct(subject), mean=mean(.data[[x]]), stdev=sd(.data[[x]]), \n",
        "              min=min(.data[[x]]), med=median(.data[[x]]), max=max(.data[[x]]))\n",
        "}) %>%\n",
        "  bind_rows()\n",
        "\n",
        "# firing threshold by afferent class \n",
        "ftSummary <- lapply(var.list, function(x){\n",
        "  footJoined %>% group_by(afferentClass) %>%\n",
        "    filter(!is.na(.data[[x]])) %>% \n",
        "    filter(firingThreshold==amplitude) %>%\n",
        "    summarise(variable=x,n=n(), naff=n_distinct(newID), nsub=n_distinct(subject), mean=mean(.data[[x]]), stdev=sd(.data[[x]]), \n",
        "              min=min(.data[[x]]), med=median(.data[[x]]), max=max(.data[[x]]))\n",
        "}) %>%\n",
        "  bind_rows()\n",
        "\n",
        "# combine summaries into one table\n",
        "ftDescriptives <- allftSummary %>% bind_rows(ftSummary) %>%\n",
        "  arrange(variable) \n",
        "\n",
        "# overall for entrainment threshold\n",
        "var.list <- c(\"frequency\", \"amplitude\")\n",
        "allentSummary <- lapply(var.list, function(x){\n",
        "  footJoined %>% \n",
        "    filter(!is.na(.data[[x]])) %>%\n",
        "    filter(entrainThreshold==amplitude) %>%\n",
        "    summarise(afferentClass=\"overall\", variable=x, n=n(), naff=n_distinct(newID), nsub=n_distinct(subject), mean=mean(.data[[x]]), stdev=sd(.data[[x]]), \n",
        "              min=min(.data[[x]]), med=median(.data[[x]]), max=max(.data[[x]]))\n",
        "}) %>%\n",
        "  bind_rows()\n",
        "\n",
        "# entrainment threshold by afferent class \n",
        "entSummary <- lapply(var.list, function(x){\n",
        "  footJoined %>% group_by(afferentClass) %>%\n",
        "    filter(!is.na(.data[[x]])) %>% \n",
        "    filter(entrainThreshold==amplitude) %>%\n",
        "    summarise(variable=x,n=n(), naff=n_distinct(newID), nsub=n_distinct(subject), mean=mean(.data[[x]]), stdev=sd(.data[[x]]), \n",
        "              min=min(.data[[x]]), med=median(.data[[x]]), max=max(.data[[x]]))\n",
        "}) %>%\n",
        "  bind_rows()\n",
        "\n",
        "# combine summaries into one table\n",
        "entDescriptives <- allentSummary %>% bind_rows(entSummary) %>%\n",
        "  arrange(variable) \n"
      ],
      "metadata": {
        "colab": {
          "base_uri": "https://localhost:8080/",
          "height": 104
        },
        "id": "OmorlbfMMuBO",
        "outputId": "6f0035c3-10a5-4c26-d73e-f07785c53205"
      },
      "execution_count": 11,
      "outputs": [
        {
          "output_type": "stream",
          "name": "stderr",
          "text": [
            "\u001b[1m\u001b[22m`summarise()` has grouped output by 'newID'. You can override using the\n",
            "`.groups` argument.\n",
            "\u001b[1m\u001b[22m`summarise()` has grouped output by 'newID'. You can override using the\n",
            "`.groups` argument.\n"
          ]
        },
        {
          "output_type": "display_data",
          "data": {
            "text/html": [
              "<style>\n",
              ".list-inline {list-style: none; margin:0; padding: 0}\n",
              ".list-inline>li {display: inline-block}\n",
              ".list-inline>li:not(:last-child)::after {content: \"\\00b7\"; padding: 0 .5ex}\n",
              "</style>\n",
              "<ol class=list-inline><li>2703</li><li>18</li></ol>\n"
            ],
            "text/markdown": "1. 2703\n2. 18\n\n\n",
            "text/latex": "\\begin{enumerate*}\n\\item 2703\n\\item 18\n\\end{enumerate*}\n",
            "text/plain": [
              "[1] 2703   18"
            ]
          },
          "metadata": {}
        }
      ]
    }
  ]
}