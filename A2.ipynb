{
  "nbformat": 4,
  "nbformat_minor": 0,
  "metadata": {
    "colab": {
      "provenance": [],
      "authorship_tag": "ABX9TyOufxz3B04oNuGvmAquQCLB",
      "include_colab_link": true
    },
    "kernelspec": {
      "name": "ir",
      "display_name": "R"
    },
    "language_info": {
      "name": "R"
    }
  },
  "cells": [
    {
      "cell_type": "markdown",
      "metadata": {
        "id": "view-in-github",
        "colab_type": "text"
      },
      "source": [
        "<a href=\"https://colab.research.google.com/github/havaledar/6200/blob/main/A2.ipynb\" target=\"_parent\"><img src=\"https://colab.research.google.com/assets/colab-badge.svg\" alt=\"Open In Colab\"/></a>"
      ]
    },
    {
      "cell_type": "code",
      "execution_count": null,
      "metadata": {
        "id": "ozbZrZsVKfaZ"
      },
      "outputs": [],
      "source": [
        "## reading in data\n",
        "library(tidyverse)\n",
        "foot <- read.csv(file.choose(), sep=\",\", skip=1, header=F)\n",
        "colnames(foot) <- c(\"session\",\"afferent\", \"subject\", \"sex\", \"age\", \"afferentClass\",\"genloc\",\"specloc\",\n",
        "                    \"RFsize\", \"RFhardness\",\"frequency\",\"amplitude\", \"AvgInst\", \"peak3\",\"impCycle\")\n",
        "foot <- data.frame(foot)"
      ]
    }
  ]
}