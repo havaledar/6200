{
  "nbformat": 4,
  "nbformat_minor": 0,
  "metadata": {
    "colab": {
      "provenance": [],
      "authorship_tag": "ABX9TyMidLws1G9GoJlviOSicCBo",
      "include_colab_link": true
    },
    "kernelspec": {
      "name": "ir",
      "display_name": "R"
    },
    "language_info": {
      "name": "R"
    }
  },
  "cells": [
    {
      "cell_type": "markdown",
      "metadata": {
        "id": "view-in-github",
        "colab_type": "text"
      },
      "source": [
        "<a href=\"https://colab.research.google.com/github/havaledar/6200/blob/main/6200_case_study_2.ipynb\" target=\"_parent\"><img src=\"https://colab.research.google.com/assets/colab-badge.svg\" alt=\"Open In Colab\"/></a>"
      ]
    },
    {
      "cell_type": "markdown",
      "source": [
        "#Introduction"
      ],
      "metadata": {
        "id": "ByMXf0YYOQ_6"
      }
    },
    {
      "cell_type": "markdown",
      "source": [
        "##Objectives  \n",
        "Write here please :)\n",
        "\n",
        "\n",
        "##Learning outcomes \n",
        "\n",
        "##Experience level "
      ],
      "metadata": {
        "id": "dWFh4J2IOUkg"
      }
    },
    {
      "cell_type": "markdown",
      "source": [
        "#Installation"
      ],
      "metadata": {
        "id": "Nuiwfyg5PRMm"
      }
    },
    {
      "cell_type": "code",
      "source": [],
      "metadata": {
        "id": "-qI0NPiuPvcw"
      },
      "execution_count": null,
      "outputs": []
    },
    {
      "cell_type": "markdown",
      "source": [
        "#Basic charts"
      ],
      "metadata": {
        "id": "Xu73i1_vPZKB"
      }
    },
    {
      "cell_type": "code",
      "source": [],
      "metadata": {
        "id": "X_TEf7BvPwTH"
      },
      "execution_count": null,
      "outputs": []
    },
    {
      "cell_type": "markdown",
      "source": [
        "#Statistics Charts "
      ],
      "metadata": {
        "id": "r9PvHStyPd4P"
      }
    },
    {
      "cell_type": "code",
      "source": [],
      "metadata": {
        "id": "oPlqRotCPw_7"
      },
      "execution_count": null,
      "outputs": []
    },
    {
      "cell_type": "markdown",
      "source": [
        "#Transformation"
      ],
      "metadata": {
        "id": "O0GfJpgLPiSk"
      }
    },
    {
      "cell_type": "code",
      "source": [],
      "metadata": {
        "id": "dLpg5vxkPxzZ"
      },
      "execution_count": null,
      "outputs": []
    },
    {
      "cell_type": "markdown",
      "source": [
        "#Modebar"
      ],
      "metadata": {
        "id": "wXXlc7iWPlYa"
      }
    },
    {
      "cell_type": "code",
      "source": [],
      "metadata": {
        "id": "YeZvFW74Pyev"
      },
      "execution_count": null,
      "outputs": []
    },
    {
      "cell_type": "markdown",
      "source": [
        "#Subplot"
      ],
      "metadata": {
        "id": "JoPPfieZPmUV"
      }
    },
    {
      "cell_type": "code",
      "source": [],
      "metadata": {
        "id": "2-Y6PlDXPzHs"
      },
      "execution_count": null,
      "outputs": []
    }
  ]
}